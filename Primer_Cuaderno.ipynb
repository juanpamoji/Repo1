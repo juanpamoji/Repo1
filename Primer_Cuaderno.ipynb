{
  "nbformat": 4,
  "nbformat_minor": 0,
  "metadata": {
    "colab": {
      "name": "Primer Cuaderno.ipynb",
      "provenance": []
    },
    "kernelspec": {
      "name": "python3",
      "display_name": "Python 3"
    }
  },
  "cells": [
    {
      "cell_type": "markdown",
      "metadata": {
        "id": "S271MndqdlNd"
      },
      "source": [
        "# La nostalgia del Melomano \r\n"
      ]
    },
    {
      "cell_type": "markdown",
      "metadata": {
        "id": "ZEN0eTddj6ey"
      },
      "source": [
        "Está es la nostalgia de fin de siglo y se vuelven a oir las rolas de los beatles \r\n",
        "[Youtube](https://www.youtube.com/watch?v=4YRYtX4pdiU)\r\n",
        "\r\n",
        "![La nostalgia de fin de siglo](https://i.ytimg.com/vi/4YRYtX4pdiU/hqdefault.jpg)\r\n",
        "\r\n",
        "*Canción del tri* **Banda mexicana**\r\n",
        "***Se ha logrado***\r\n",
        ">Hagalo real "
      ]
    },
    {
      "cell_type": "markdown",
      "metadata": {
        "id": "qvTfPbeJljRo"
      },
      "source": [
        "#Lengueje LaTex\r\n"
      ]
    },
    {
      "cell_type": "markdown",
      "metadata": {
        "id": "ipEbETyxlpJY"
      },
      "source": [
        "El lenguaje LaTex es muy usado para mejorar una presentación en la fórmulas mátematicas, especialmente utilizada en artículos matemáticos. Por ejemplo,\r\n",
        "$$P(A|B)=\\frac{P(A\\cap B)}{P(B)}$$"
      ]
    },
    {
      "cell_type": "code",
      "metadata": {
        "colab": {
          "base_uri": "https://localhost:8080/"
        },
        "id": "oZQRivEon1DL",
        "outputId": "d5c167ac-af0c-480e-8b14-06b9fa604086"
      },
      "source": [
        "print(\"Hola mi pex\")"
      ],
      "execution_count": 1,
      "outputs": [
        {
          "output_type": "stream",
          "text": [
            "Hola mi pex\n"
          ],
          "name": "stdout"
        }
      ]
    }
  ]
}