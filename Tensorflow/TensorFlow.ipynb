{
 "cells": [
  {
   "cell_type": "markdown",
   "metadata": {},
   "source": [
    "## Universidad Nacional de Colombia\n",
    "## Diplomado en IA y AP\n",
    "### Juan Pablo Mojica Macías"
   ]
  },
  {
   "cell_type": "markdown",
   "metadata": {},
   "source": [
    "## Canaización de Datos con Tensorflow"
   ]
  },
  {
   "cell_type": "code",
   "execution_count": 26,
   "metadata": {},
   "outputs": [],
   "source": [
    "#Importación de librerias\n",
    "import tensorflow as tf\n",
    "import numpy as np"
   ]
  },
  {
   "cell_type": "markdown",
   "metadata": {},
   "source": [
    "## Construcción de algunos Tensores"
   ]
  },
  {
   "cell_type": "code",
   "execution_count": 27,
   "metadata": {},
   "outputs": [
    {
     "name": "stdout",
     "output_type": "stream",
     "text": [
      "tf.Tensor(6, shape=(), dtype=int32)\n"
     ]
    }
   ],
   "source": [
    "#Tensor de dimensión 0\n",
    "tensor0=tf.constant(6)\n",
    "print(tensor0)"
   ]
  },
  {
   "cell_type": "code",
   "execution_count": 28,
   "metadata": {},
   "outputs": [
    {
     "name": "stdout",
     "output_type": "stream",
     "text": [
      "tf.Tensor([3 5 7], shape=(3,), dtype=int32)\n"
     ]
    }
   ],
   "source": [
    "# Tensor de dimesión 3\n",
    "tensor3=tf.constant([3,5,7])\n",
    "print(tensor3)"
   ]
  },
  {
   "cell_type": "code",
   "execution_count": 29,
   "metadata": {},
   "outputs": [
    {
     "name": "stdout",
     "output_type": "stream",
     "text": [
      "tf.Tensor(\n",
      "[[ 2  4  6]\n",
      " [ 8 10 12]], shape=(2, 3), dtype=int32)\n"
     ]
    }
   ],
   "source": [
    "# Tensor de dimensión 2-3\n",
    "tensor23=tf.constant([[2,4,6],[8,10,12]])\n",
    "print(tensor23)"
   ]
  },
  {
   "cell_type": "code",
   "execution_count": 30,
   "metadata": {},
   "outputs": [
    {
     "name": "stdout",
     "output_type": "stream",
     "text": [
      "tf.Tensor(\n",
      "[[[1 1 1 1 1]\n",
      "  [2 2 2 2 2]\n",
      "  [3 3 3 3 3]]\n",
      "\n",
      " [[4 4 4 4 4]\n",
      "  [5 5 5 5 5]\n",
      "  [6 6 6 6 6]]], shape=(2, 3, 5), dtype=int32)\n"
     ]
    }
   ],
   "source": [
    "# Tensor de dimensión 2-3-5: ([[[5elementos],[5elementos],[5elementos]],[[5elmentos],[5elementos],[5elementos]]]) \n",
    "tensor235=tf.constant([[[1,1,1,1,1],[2,2,2,2,2],[3,3,3,3,3]],[[4,4,4,4,4],[5,5,5,5,5],[6,6,6,6,6]]])\n",
    "print(tensor235)"
   ]
  },
  {
   "cell_type": "code",
   "execution_count": 31,
   "metadata": {},
   "outputs": [
    {
     "name": "stdout",
     "output_type": "stream",
     "text": [
      "[[[1 1 1 1 1]\n",
      "  [2 2 2 2 2]\n",
      "  [3 3 3 3 3]]\n",
      "\n",
      " [[4 4 4 4 4]\n",
      "  [5 5 5 5 5]\n",
      "  [6 6 6 6 6]]]\n",
      "\n",
      " (2, 3, 5)\n",
      "\n",
      " (2, 3, 5)\n"
     ]
    }
   ],
   "source": [
    "print(tensor235.numpy())\n",
    "print('\\n',tensor235.numpy().shape)\n",
    "print('\\n',tensor235.shape)"
   ]
  },
  {
   "cell_type": "markdown",
   "metadata": {},
   "source": [
    "### Álgebra de Tensores"
   ]
  },
  {
   "cell_type": "code",
   "execution_count": 32,
   "metadata": {},
   "outputs": [],
   "source": [
    "#Consruimos dos tensores de la mismas dimensión\n",
    "a=tf.constant([[1,3,5],[2,4,6]])\n",
    "b=tf.constant([[1,2,3],[4,5,6]])"
   ]
  },
  {
   "cell_type": "code",
   "execution_count": 33,
   "metadata": {},
   "outputs": [
    {
     "name": "stdout",
     "output_type": "stream",
     "text": [
      "tf.Tensor(\n",
      "[[ 2  5  8]\n",
      " [ 6  9 12]], shape=(2, 3), dtype=int32)\n",
      "\n",
      " tf.Tensor(\n",
      "[[ 2  5  8]\n",
      " [ 6  9 12]], shape=(2, 3), dtype=int32)\n"
     ]
    }
   ],
   "source": [
    "# Suma de tensores\n",
    "suma=tf.add(a,b)\n",
    "print(suma)\n",
    "\n",
    "# O alternativamente\n",
    "print('\\n', a+b)"
   ]
  },
  {
   "cell_type": "code",
   "execution_count": 34,
   "metadata": {},
   "outputs": [
    {
     "name": "stdout",
     "output_type": "stream",
     "text": [
      "tf.Tensor(\n",
      "[[ 1  6 15]\n",
      " [ 8 20 36]], shape=(2, 3), dtype=int32)\n",
      "\n",
      " tf.Tensor(\n",
      "[[ 1  6 15]\n",
      " [ 8 20 36]], shape=(2, 3), dtype=int32)\n"
     ]
    }
   ],
   "source": [
    "# Producto de tensores:\n",
    "prodc=tf.multiply(a,b)\n",
    "print(prodc)\n",
    "\n",
    "# O también\n",
    "print('\\n', a*b)"
   ]
  },
  {
   "cell_type": "code",
   "execution_count": 35,
   "metadata": {},
   "outputs": [
    {
     "name": "stdout",
     "output_type": "stream",
     "text": [
      "tf.Tensor(\n",
      "[[2 6 5]\n",
      " [4 9 5]], shape=(2, 3), dtype=int32)\n",
      "\n",
      " tf.Tensor(\n",
      "[[2 1]\n",
      " [9 5]\n",
      " [7 8]], shape=(3, 2), dtype=int32)\n",
      "\n",
      " tf.Tensor(\n",
      "[[ 93  72]\n",
      " [124  89]], shape=(2, 2), dtype=int32)\n",
      "\n",
      " tf.Tensor(\n",
      "[[ 93  72]\n",
      " [124  89]], shape=(2, 2), dtype=int32)\n"
     ]
    }
   ],
   "source": [
    "# Producto de tensores matricialmente cos tensores conformables:\n",
    "x=tf.constant([[2,6,5],[4,9,5]])\n",
    "y=tf.constant([[2,1],[9,5],[7,8]])\n",
    "prodt=tf.matmul(x,y)\n",
    "print(x)\n",
    "print('\\n',y)\n",
    "print('\\n',prodt)\n",
    "\n",
    "# También podemos hacer\n",
    "print('\\n', x@y)"
   ]
  },
  {
   "cell_type": "markdown",
   "metadata": {},
   "source": [
    "### Funciones de Reducción"
   ]
  },
  {
   "cell_type": "code",
   "execution_count": 36,
   "metadata": {},
   "outputs": [
    {
     "name": "stdout",
     "output_type": "stream",
     "text": [
      "tf.Tensor(\n",
      "[[2. 1.]\n",
      " [6. 9.]], shape=(2, 2), dtype=float32)\n",
      "\n",
      "ELEMENTO MAYOR: tf.Tensor(9.0, shape=(), dtype=float32)\n",
      "\n",
      "ELEMENTO MENOR: tf.Tensor(1.0, shape=(), dtype=float32)\n",
      "\n",
      "PROMEDIO DE LOS ELEMENTOS: tf.Tensor(4.5, shape=(), dtype=float32)\n",
      "\n",
      "POSICIÓN ELEMENTO MAYOR: tf.Tensor([1 1], shape=(2,), dtype=int64)\n",
      "\n",
      "SOFTMAX:\n",
      " tf.Tensor(\n",
      "[[0.7310586  0.26894143]\n",
      " [0.04742587 0.95257413]], shape=(2, 2), dtype=float32)\n",
      "\n",
      "SUMA PROBABILIDADES SOFTMAX: tf.Tensor([1. 1.], shape=(2,), dtype=float32) \n",
      "\n"
     ]
    }
   ],
   "source": [
    "p=tf.constant([[2.0,1.0],[6.0,9.0]])\n",
    "print(p)\n",
    "\n",
    "# Identificamos el elemento mayor dentro del tensor:\n",
    "print('\\nELEMENTO MAYOR:',tf.reduce_max(p))\n",
    "# Identificamos el elemento menor dentro del tensor:\n",
    "print('\\nELEMENTO MENOR:',tf.reduce_min(p))\n",
    "# Calculamos el promedio de los componentes del tensor:\n",
    "print('\\nPROMEDIO DE LOS ELEMENTOS:',tf.reduce_mean(p))\n",
    "# Identificamos la posición del elemento mayor dentro del tensor:\n",
    "print('\\nPOSICIÓN ELEMENTO MAYOR:',tf.argmax(p))\n",
    "# Aplica la función de activación SOFTMAX a los componentes del tensor exp(e[i,j])/sum(exp(e[i,]))\n",
    "print('\\nSOFTMAX:\\n',tf.nn.softmax(p))\n",
    "# Se suman las probabilidades obtenidas con la función SOFTMAX para verificar que da 1:\n",
    "print('\\nSUMA PROBABILIDADES SOFTMAX:',tf.reduce_sum(tf.nn.softmax(p),axis=1),\"\\n\")"
   ]
  },
  {
   "cell_type": "markdown",
   "metadata": {},
   "source": [
    "### Tipo, Forma y Dimensión"
   ]
  },
  {
   "cell_type": "code",
   "execution_count": 37,
   "metadata": {},
   "outputs": [
    {
     "name": "stdout",
     "output_type": "stream",
     "text": [
      "TIPO:  <dtype: 'int32'>\n",
      "\n",
      "FORMA:  (3, 2, 5)\n",
      "\n",
      "DIMENSIÓN:  3\n",
      "\n",
      "DIMENSIÓN DE UN COMPONENTE:  2\n",
      "\n",
      "NÚMERO DE ELEMENTOS:  tf.Tensor(30, shape=(), dtype=int32)\n"
     ]
    }
   ],
   "source": [
    "ts=tf.constant([[[9,4,2,5,9],[1,4,5,0,6]],\n",
    "                    [[3,7,7,1,2],[2,4,2,5,1]],\n",
    "                    [[1,5,23,6,1],[10,7,0,16,7]]])\n",
    "print('TIPO: ',ts.dtype)\n",
    "print('\\nFORMA: ',ts.shape)\n",
    "print('\\nDIMENSIÓN: ',ts.ndim)\n",
    "print('\\nDIMENSIÓN DE UN COMPONENTE: ',ts.shape[1])\n",
    "print('\\nNÚMERO DE ELEMENTOS: ',tf.size(ts.numpy()))"
   ]
  },
  {
   "cell_type": "markdown",
   "metadata": {},
   "source": [
    "### Manejo de Índices"
   ]
  },
  {
   "cell_type": "code",
   "execution_count": 38,
   "metadata": {},
   "outputs": [
    {
     "name": "stdout",
     "output_type": "stream",
     "text": [
      "tf.Tensor([10  4 14 15  3  4 10 19 19  6], shape=(10,), dtype=int32)\n",
      "\n",
      "PIMER ELEMENTO:  tf.Tensor(10, shape=(), dtype=int32)\n",
      "\n",
      "QUINTO ELEMENTO:  tf.Tensor(3, shape=(), dtype=int32)\n",
      "\n",
      "ÚLTIMO EMENTO:  6\n",
      "\n",
      "TODOS LOS ELEMENTOS:  [10  4 14 15  3  4 10 19 19  6]\n",
      "\n",
      "ELEMENTOS ANTES DE LA POSICIÓN 5:  [10  4 14 15  3]\n",
      "\n",
      "ELEMENTOS DESPUÉS DE LA POSICIÓN 5:  [ 4 10 19 19  6]\n",
      "\n",
      "DESDER LA POSICIÓN 4 HASTA LA POSICIÓN 6:  [ 3  4 10]\n",
      "\n",
      "ELEMENTOS EN LA POSICIÓN IMPAR:  [10 14  3 10 19]\n",
      "\n",
      "ELEMENTOS INVIRTIENDO EL ORDEN:  [ 6 19 19 10  4  3 15 14  4 10]\n"
     ]
    }
   ],
   "source": [
    "# manejo de índices\n",
    "ts=tf.constant([10,4,14,15,3,4,10,19,19,6])\n",
    "print(ts)\n",
    "print(\"\\nPIMER ELEMENTO: \", ts[0])\n",
    "print(\"\\nQUINTO ELEMENTO: \", ts[4])\n",
    "print(\"\\nÚLTIMO EMENTO: \", ts[-1].numpy())\n",
    "print('\\nTODOS LOS ELEMENTOS: ', ts[:].numpy())\n",
    "print('\\nELEMENTOS ANTES DE LA POSICIÓN 5: ', ts[:5].numpy())\n",
    "print('\\nELEMENTOS DESPUÉS DE LA POSICIÓN 5: ', ts[5:].numpy())\n",
    "print('\\nDESDER LA POSICIÓN 4 HASTA LA POSICIÓN 6: ', ts[4:7].numpy())\n",
    "print('\\nELEMENTOS EN LA POSICIÓN IMPAR: ', ts[0::2].numpy())\n",
    "print('\\nELEMENTOS INVIRTIENDO EL ORDEN: ', ts[::-1].numpy())"
   ]
  },
  {
   "cell_type": "code",
   "execution_count": 39,
   "metadata": {},
   "outputs": [
    {
     "name": "stdout",
     "output_type": "stream",
     "text": [
      "TENSOR:  tf.Tensor(\n",
      "[[2 3 4]\n",
      " [1 7 9]], shape=(2, 3), dtype=int32)\n",
      "\n",
      "COMPONENTE EN LA POSICIÓN 0-1 =  3\n",
      "\n",
      "PRIMERA FILA:  [2 3 4]\n",
      "\n",
      "PRIMERA COLUMNA:  [2 1]\n",
      "\n",
      "ÚLTIMA COLUMNA:  [4 9]\n",
      "\n",
      "PRIMER ELEMENTO DE LA ÚLTIMA COLUMNA:  4\n",
      "\n",
      "SALTAR LA PRIMERA COLUMNA:\n",
      " [[3 4]\n",
      " [7 9]]\n"
     ]
    }
   ],
   "source": [
    "t=tf.constant([[2,3,4],[1,7,9]])\n",
    "print('TENSOR: ', t)\n",
    "\n",
    "print('\\nCOMPONENTE EN LA POSICIÓN 0-1 = ',t[0,1].numpy())\n",
    "print('\\nPRIMERA FILA: ', t[0,:].numpy())\n",
    "print('\\nPRIMERA COLUMNA: ', t[:,0].numpy())\n",
    "print('\\nÚLTIMA COLUMNA: ', t[:,-1].numpy())\n",
    "print('\\nPRIMER ELEMENTO DE LA ÚLTIMA COLUMNA: ', t[0,-1].numpy())\n",
    "print('\\nSALTAR LA PRIMERA COLUMNA:\\n', t[:,1:].numpy())"
   ]
  },
  {
   "cell_type": "code",
   "execution_count": 40,
   "metadata": {},
   "outputs": [
    {
     "name": "stdout",
     "output_type": "stream",
     "text": [
      "(3, 2, 5) \n",
      "\n",
      "[[[ 1  2  3  4  5]\n",
      "  [ 4  4  6  6  7]]\n",
      "\n",
      " [[ 8  9  1  2  3]\n",
      "  [12  8 10 21 20]]\n",
      "\n",
      " [[ 2  4  6  8 10]\n",
      "  [30 31 32 33 12]]]\n",
      "PRIMERA CAPA\n",
      " tf.Tensor(\n",
      "[[1 2 3 4 5]\n",
      " [4 4 6 6 7]], shape=(2, 5), dtype=int32)\n",
      "\n",
      "PRIMERA CAPA\n",
      " tf.Tensor(\n",
      "[[1 2 3 4 5]\n",
      " [4 4 6 6 7]], shape=(2, 5), dtype=int32)\n",
      "\n",
      "SEGUNDA CAPA\n",
      " tf.Tensor(\n",
      "[[ 8  9  1  2  3]\n",
      " [12  8 10 21 20]], shape=(2, 5), dtype=int32)\n",
      "\n",
      "TERCERA CAPA\n",
      " tf.Tensor(\n",
      "[[ 2  4  6  8 10]\n",
      " [30 31 32 33 12]], shape=(2, 5), dtype=int32)\n"
     ]
    }
   ],
   "source": [
    "# Creamos un vector 3-2-5 para ilustrar\n",
    "ten=tf.constant([[[1,2,3,4,5],[4,4,6,6,7]],[[8,9,1,2,3],[12,8,10,21,20]],[[2,4,6,8,10],[30,31,32,33,12]]])\n",
    "print(ten.shape,'\\n')\n",
    "print(ten.numpy())\n",
    "print('PRIMERA CAPA\\n', ten[0,:,:])\n",
    "print('\\nPRIMERA CAPA\\n', ten[0])\n",
    "print('\\nSEGUNDA CAPA\\n', ten[1])\n",
    "print('\\nTERCERA CAPA\\n', ten[2])"
   ]
  },
  {
   "cell_type": "code",
   "execution_count": 41,
   "metadata": {},
   "outputs": [
    {
     "name": "stdout",
     "output_type": "stream",
     "text": [
      "FORMA:  (3, 1)\n",
      "\n",
      "FORMA COMO LISTA:  [3, 1] \n",
      "\n",
      "[[1 2 3]] \n",
      "\n",
      "[[1]\n",
      " [2]\n",
      " [3]]\n",
      "Tensor actual: \n",
      " [[[ 9  4  2  5  9]\n",
      "  [ 1  4  5  0  6]]\n",
      "\n",
      " [[ 3  7  7  1  2]\n",
      "  [ 2  4  2  5  1]]\n",
      "\n",
      " [[ 1  5 23  6  1]\n",
      "  [10  7  0 16  7]]]\n",
      "\n",
      " TENSOR APLANADO: \n",
      " [ 9  4  2  5  9  1  4  5  0  6  3  7  7  1  2  2  4  2  5  1  1  5 23  6\n",
      "  1 10  7  0 16  7]\n",
      "[3, 2, 5] \n",
      "\n",
      "tf.Tensor(\n",
      "[[ 9  4  2  5  9]\n",
      " [ 1  4  5  0  6]\n",
      " [ 3  7  7  1  2]\n",
      " [ 2  4  2  5  1]\n",
      " [ 1  5 23  6  1]\n",
      " [10  7  0 16  7]], shape=(6, 5), dtype=int32) \n",
      "\n",
      "tf.Tensor(\n",
      "[[ 9  4  2  5  9  1  4  5  0  6  3  7  7  1  2]\n",
      " [ 2  4  2  5  1  1  5 23  6  1 10  7  0 16  7]], shape=(2, 15), dtype=int32) \n",
      "\n",
      "tf.Tensor(\n",
      "[[ 9  4  2  5  9]\n",
      " [ 1  4  5  0  6]\n",
      " [ 3  7  7  1  2]\n",
      " [ 2  4  2  5  1]\n",
      " [ 1  5 23  6  1]\n",
      " [10  7  0 16  7]], shape=(6, 5), dtype=int32) \n",
      "\n",
      "tf.Tensor(\n",
      "[[ 9  4  2  5  9  1  4  5  0  6]\n",
      " [ 3  7  7  1  2  2  4  2  5  1]\n",
      " [ 1  5 23  6  1 10  7  0 16  7]], shape=(3, 10), dtype=int32) \n",
      "\n",
      "tf.Tensor(\n",
      "[[[ 9  4  2  5  9]\n",
      "  [ 1  4  5  0  6]]\n",
      "\n",
      " [[ 3  7  7  1  2]\n",
      "  [ 2  4  2  5  1]]\n",
      "\n",
      " [[ 1  5 23  6  1]\n",
      "  [10  7  0 16  7]]], shape=(3, 2, 5), dtype=int32) \n",
      "\n"
     ]
    }
   ],
   "source": [
    "x = tf.constant([[1],[2],[3]])\n",
    "print('FORMA: ', x.shape)\n",
    "print('\\nFORMA COMO LISTA: ',x.shape.as_list(),'\\n')\n",
    "reshaped = tf.reshape(x,[1,3])\n",
    "print(reshaped.numpy(),'\\n')\n",
    "print(x.numpy())\n",
    "print(\"Tensor actual: \\n\", tensor.numpy())\n",
    "flat = tf.reshape(tensor, [-1])\n",
    "print(\"\\n TENSOR APLANADO: \\n\", flat.numpy())\n",
    "print(tensor.shape.as_list(),'\\n')\n",
    "print(tf.reshape(tensor, [2*3,5]),'\\n')\n",
    "print(tf.reshape(tensor, [2,3*5]),'\\n')\n",
    "print(tf.reshape(tensor, [-1,5]),'\\n')\n",
    "print(tf.reshape(tensor, [3,-1]),'\\n')\n",
    "print(tf.reshape(tensor, [3,2,5]),'\\n')"
   ]
  },
  {
   "cell_type": "code",
   "execution_count": 42,
   "metadata": {},
   "outputs": [
    {
     "name": "stdout",
     "output_type": "stream",
     "text": [
      "tf.Tensor([9. 4. 7.], shape=(3,), dtype=float64) \n",
      "\n",
      "tf.Tensor([9. 4. 7.], shape=(3,), dtype=float16) \n",
      "\n",
      "tf.Tensor([9 4 7], shape=(3,), dtype=uint8) \n",
      "\n"
     ]
    }
   ],
   "source": [
    "#La función 'cast':\n",
    "f64_tensor = tf.constant([9.0, 4.0, 7.0], dtype = tf.float64)\n",
    "print(f64_tensor,'\\n')\n",
    "\n",
    "f16_tensor = tf.cast(f64_tensor,dtype= tf.float16)\n",
    "print(f16_tensor,'\\n')\n",
    "\n",
    "u8_tensor = tf.cast(f16_tensor, dtype = tf.uint8)\n",
    "print(u8_tensor,'\\n')"
   ]
  },
  {
   "cell_type": "markdown",
   "metadata": {},
   "source": [
    "### Radiodifusión"
   ]
  },
  {
   "cell_type": "code",
   "execution_count": 43,
   "metadata": {},
   "outputs": [
    {
     "name": "stdout",
     "output_type": "stream",
     "text": [
      "tf.Tensor([10 20 30], shape=(3,), dtype=int32) \n",
      "\n",
      "tf.Tensor([10 20 30], shape=(3,), dtype=int32) \n",
      "\n",
      "tf.Tensor([10 20 30], shape=(3,), dtype=int32) \n",
      "\n",
      "tf.Tensor(\n",
      "[[2]\n",
      " [4]\n",
      " [6]], shape=(3, 1), dtype=int32) \n",
      "\n",
      "tf.Tensor([ 2  4  6  8 10], shape=(5,), dtype=int32) \n",
      "\n",
      "tf.Tensor(\n",
      "[[ 4  8 12 16 20]\n",
      " [ 8 16 24 32 40]\n",
      " [12 24 36 48 60]], shape=(3, 5), dtype=int32)\n"
     ]
    }
   ],
   "source": [
    "a = tf.constant([2, 4 ,6])\n",
    "b = tf.constant(5)\n",
    "c = tf.constant([5, 5 ,5])\n",
    "\n",
    "# Podemos producir el mismo resultado usando la siguiente sintaxis:\n",
    "print(tf.multiply(a,5),'\\n')\n",
    "print(a*b,'\\n')\n",
    "print(a*c,'\\n')\n",
    "\n",
    "a = tf.reshape(a, [3,1])\n",
    "b = tf.constant([2,4,6,8,10])\n",
    "print(a, '\\n')\n",
    "print(b, '\\n')\n",
    "print(tf.multiply(a,b)) "
   ]
  },
  {
   "cell_type": "code",
   "execution_count": 44,
   "metadata": {},
   "outputs": [
    {
     "name": "stdout",
     "output_type": "stream",
     "text": [
      "tf.Tensor(\n",
      "[[1 2 3]\n",
      " [1 2 3]\n",
      " [1 2 3]], shape=(3, 3), dtype=int32)\n"
     ]
    }
   ],
   "source": [
    "# Creamos un tensor 3-3 a partir de un componente\n",
    "print(tf.broadcast_to([1,2,3], [3,3]))"
   ]
  },
  {
   "cell_type": "markdown",
   "metadata": {},
   "source": [
    "### Tensores Irregulares"
   ]
  },
  {
   "cell_type": "code",
   "execution_count": 45,
   "metadata": {},
   "outputs": [
    {
     "name": "stdout",
     "output_type": "stream",
     "text": [
      "(4, None)\n"
     ]
    }
   ],
   "source": [
    "ragged_list=[\n",
    "    [0,1,2,3],\n",
    "    [4],\n",
    "    [5,6,7],\n",
    "    [8,9]\n",
    "]\n",
    "ragged_t = tf.ragged.constant(ragged_list)\n",
    "\n",
    "print(ragged_t.shape)"
   ]
  },
  {
   "cell_type": "markdown",
   "metadata": {},
   "source": [
    "### Tensores de String"
   ]
  },
  {
   "cell_type": "code",
   "execution_count": 46,
   "metadata": {},
   "outputs": [
    {
     "name": "stdout",
     "output_type": "stream",
     "text": [
      "tf.Tensor(b'Creamos un tensor con texto', shape=(), dtype=string)\n"
     ]
    }
   ],
   "source": [
    "tt=tf.constant(\"Creamos un tensor con texto\")\n",
    "print(tt)"
   ]
  },
  {
   "cell_type": "code",
   "execution_count": 47,
   "metadata": {},
   "outputs": [
    {
     "name": "stdout",
     "output_type": "stream",
     "text": [
      "tf.Tensor(\n",
      "[b'Creamos un tensor con texto' b'Texto 2' b'Texto 3' b'Emoji'\n",
      " b'\\xf0\\x9f\\x98\\x81'], shape=(5,), dtype=string) \n",
      "\n",
      "\n",
      " <tf.RaggedTensor [[b'Creamos', b'un', b'tensor', b'con', b'texto'], [b'Texto', b'2'], [b'Texto', b'3'], [b'Emoji'], [b'\\xf0\\x9f\\x98\\x81']]>\n"
     ]
    }
   ],
   "source": [
    "tt=tf.constant([\"Creamos un tensor con texto\",\n",
    "               \"Texto 2\",\n",
    "               \"Texto 3\",\n",
    "               \"Emoji\",\n",
    "               \"😁\"])\n",
    "print(tt,'\\n')\n",
    "print('\\n',tf.strings.split(tt))"
   ]
  },
  {
   "cell_type": "code",
   "execution_count": 48,
   "metadata": {},
   "outputs": [
    {
     "name": "stdout",
     "output_type": "stream",
     "text": [
      "tf.Tensor([b'Creamos' b'un' b'tensor' b'con' b'texto'], shape=(5,), dtype=string)\n",
      "tf.Tensor([b'Texto' b'2'], shape=(2,), dtype=string)\n",
      "tf.Tensor([b'Texto' b'3'], shape=(2,), dtype=string)\n",
      "tf.Tensor([b'Emoji'], shape=(1,), dtype=string)\n",
      "tf.Tensor([b'\\xf0\\x9f\\x98\\x81'], shape=(1,), dtype=string)\n"
     ]
    }
   ],
   "source": [
    "tt_split = tf.strings.split(tt)\n",
    "for i in tt_split:\n",
    "    print(i)"
   ]
  },
  {
   "cell_type": "code",
   "execution_count": 49,
   "metadata": {},
   "outputs": [
    {
     "name": "stdout",
     "output_type": "stream",
     "text": [
      "tf.Tensor([ 8.  15.  20.2], shape=(3,), dtype=float32)\n"
     ]
    }
   ],
   "source": [
    "# Podemos convertir un string en número:\n",
    "tt = tf.constant(\"8 15 20.2\")\n",
    "\n",
    "print(tf.strings.to_number(tf.strings.split(tt, \" \")))"
   ]
  },
  {
   "cell_type": "markdown",
   "metadata": {},
   "source": [
    "### Tensores Dispersos"
   ]
  },
  {
   "cell_type": "code",
   "execution_count": 50,
   "metadata": {},
   "outputs": [
    {
     "name": "stdout",
     "output_type": "stream",
     "text": [
      "SparseTensor(indices=tf.Tensor(\n",
      "[[0 1]\n",
      " [1 2]], shape=(2, 2), dtype=int64), values=tf.Tensor([1 2], shape=(2,), dtype=int32), dense_shape=tf.Tensor([3 4], shape=(2,), dtype=int64)) \n",
      "\n",
      "tf.Tensor(\n",
      "[[0 1 0 0]\n",
      " [0 0 2 0]\n",
      " [0 0 0 0]], shape=(3, 4), dtype=int32)\n"
     ]
    }
   ],
   "source": [
    "# Construimos un tensor disperso\n",
    "tensor_disp = tf.sparse.SparseTensor(indices = [[0,1], [1,2]],\n",
    "                                       values = [1,2],\n",
    "                                       dense_shape\n",
    "                                        =[3,4])\n",
    "print(tensor_disp, \"\\n\")\n",
    "\n",
    "# Ahora lo convertimos en un tensor denso\n",
    "print(tf.sparse.to_dense(tensor_disp))"
   ]
  }
 ],
 "metadata": {
  "kernelspec": {
   "display_name": "Python 3",
   "language": "python",
   "name": "python3"
  },
  "language_info": {
   "codemirror_mode": {
    "name": "ipython",
    "version": 3
   },
   "file_extension": ".py",
   "mimetype": "text/x-python",
   "name": "python",
   "nbconvert_exporter": "python",
   "pygments_lexer": "ipython3",
   "version": "3.8.5"
  }
 },
 "nbformat": 4,
 "nbformat_minor": 4
}
