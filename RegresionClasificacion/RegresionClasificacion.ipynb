{
 "cells": [
  {
   "cell_type": "markdown",
   "metadata": {},
   "source": [
    "# Diplomdo en IA y AP\n",
    "## Universidad Nacional de Colombia\n",
    "## Juan Pablo Mojica Macías\n",
    "## **Regresión y Clasificación**"
   ]
  },
  {
   "cell_type": "markdown",
   "metadata": {},
   "source": [
    "## 1. Breast Cancer Winsconsin\n",
    "Construya una red neuronal de clasificación binaria para predecir el cáncer de seno. Use los datos Breast Cancer Wisconsin."
   ]
  },
  {
   "cell_type": "code",
   "execution_count": 115,
   "metadata": {},
   "outputs": [],
   "source": [
    "#Importamos Librerias\n",
    "import pandas as pd\n",
    "import matplotlib.pyplot as plt\n",
    "import seaborn as sb\n",
    "import tensorflow as tf\n",
    "from tensorflow import keras\n",
    "from tensorflow.estimator import LinearClassifier\n",
    "from sklearn.model_selection import train_test_split\n",
    "from sklearn.metrics import accuracy_score, precision_score, recall_score\n",
    "from tensorflow.keras.models import Sequential\n",
    "from tensorflow.keras.layers import Dense, Dropout\n",
    "from tensorflow.keras.utils import plot_model\n",
    "from sklearn.preprocessing import LabelEncoder\n",
    "from sklearn.model_selection import train_test_split\n",
    "from sklearn.preprocessing import StandardScaler\n",
    "from sklearn.metrics import confusion_matrix\n",
    "from tensorflow.keras import Model\n",
    "from tensorflow.keras.layers import Dense, Activation, Dropout"
   ]
  },
  {
   "cell_type": "code",
   "execution_count": 116,
   "metadata": {},
   "outputs": [
    {
     "data": {
      "text/html": [
       "<div>\n",
       "<style scoped>\n",
       "    .dataframe tbody tr th:only-of-type {\n",
       "        vertical-align: middle;\n",
       "    }\n",
       "\n",
       "    .dataframe tbody tr th {\n",
       "        vertical-align: top;\n",
       "    }\n",
       "\n",
       "    .dataframe thead th {\n",
       "        text-align: right;\n",
       "    }\n",
       "</style>\n",
       "<table border=\"1\" class=\"dataframe\">\n",
       "  <thead>\n",
       "    <tr style=\"text-align: right;\">\n",
       "      <th></th>\n",
       "      <th>id</th>\n",
       "      <th>diagnosis</th>\n",
       "      <th>radius_mean</th>\n",
       "      <th>texture_mean</th>\n",
       "      <th>perimeter_mean</th>\n",
       "      <th>area_mean</th>\n",
       "      <th>smoothness_mean</th>\n",
       "      <th>compactness_mean</th>\n",
       "      <th>concavity_mean</th>\n",
       "      <th>concave points_mean</th>\n",
       "      <th>...</th>\n",
       "      <th>radius_worst</th>\n",
       "      <th>texture_worst</th>\n",
       "      <th>perimeter_worst</th>\n",
       "      <th>area_worst</th>\n",
       "      <th>smoothness_worst</th>\n",
       "      <th>compactness_worst</th>\n",
       "      <th>concavity_worst</th>\n",
       "      <th>concave points_worst</th>\n",
       "      <th>symmetry_worst</th>\n",
       "      <th>fractal_dimension_worst</th>\n",
       "    </tr>\n",
       "  </thead>\n",
       "  <tbody>\n",
       "    <tr>\n",
       "      <th>0</th>\n",
       "      <td>842302</td>\n",
       "      <td>M</td>\n",
       "      <td>17.99</td>\n",
       "      <td>10.38</td>\n",
       "      <td>122.80</td>\n",
       "      <td>1001.0</td>\n",
       "      <td>0.11840</td>\n",
       "      <td>0.27760</td>\n",
       "      <td>0.3001</td>\n",
       "      <td>0.14710</td>\n",
       "      <td>...</td>\n",
       "      <td>25.38</td>\n",
       "      <td>17.33</td>\n",
       "      <td>184.60</td>\n",
       "      <td>2019.0</td>\n",
       "      <td>0.1622</td>\n",
       "      <td>0.6656</td>\n",
       "      <td>0.7119</td>\n",
       "      <td>0.2654</td>\n",
       "      <td>0.4601</td>\n",
       "      <td>0.11890</td>\n",
       "    </tr>\n",
       "    <tr>\n",
       "      <th>1</th>\n",
       "      <td>842517</td>\n",
       "      <td>M</td>\n",
       "      <td>20.57</td>\n",
       "      <td>17.77</td>\n",
       "      <td>132.90</td>\n",
       "      <td>1326.0</td>\n",
       "      <td>0.08474</td>\n",
       "      <td>0.07864</td>\n",
       "      <td>0.0869</td>\n",
       "      <td>0.07017</td>\n",
       "      <td>...</td>\n",
       "      <td>24.99</td>\n",
       "      <td>23.41</td>\n",
       "      <td>158.80</td>\n",
       "      <td>1956.0</td>\n",
       "      <td>0.1238</td>\n",
       "      <td>0.1866</td>\n",
       "      <td>0.2416</td>\n",
       "      <td>0.1860</td>\n",
       "      <td>0.2750</td>\n",
       "      <td>0.08902</td>\n",
       "    </tr>\n",
       "    <tr>\n",
       "      <th>2</th>\n",
       "      <td>84300903</td>\n",
       "      <td>M</td>\n",
       "      <td>19.69</td>\n",
       "      <td>21.25</td>\n",
       "      <td>130.00</td>\n",
       "      <td>1203.0</td>\n",
       "      <td>0.10960</td>\n",
       "      <td>0.15990</td>\n",
       "      <td>0.1974</td>\n",
       "      <td>0.12790</td>\n",
       "      <td>...</td>\n",
       "      <td>23.57</td>\n",
       "      <td>25.53</td>\n",
       "      <td>152.50</td>\n",
       "      <td>1709.0</td>\n",
       "      <td>0.1444</td>\n",
       "      <td>0.4245</td>\n",
       "      <td>0.4504</td>\n",
       "      <td>0.2430</td>\n",
       "      <td>0.3613</td>\n",
       "      <td>0.08758</td>\n",
       "    </tr>\n",
       "    <tr>\n",
       "      <th>3</th>\n",
       "      <td>84348301</td>\n",
       "      <td>M</td>\n",
       "      <td>11.42</td>\n",
       "      <td>20.38</td>\n",
       "      <td>77.58</td>\n",
       "      <td>386.1</td>\n",
       "      <td>0.14250</td>\n",
       "      <td>0.28390</td>\n",
       "      <td>0.2414</td>\n",
       "      <td>0.10520</td>\n",
       "      <td>...</td>\n",
       "      <td>14.91</td>\n",
       "      <td>26.50</td>\n",
       "      <td>98.87</td>\n",
       "      <td>567.7</td>\n",
       "      <td>0.2098</td>\n",
       "      <td>0.8663</td>\n",
       "      <td>0.6869</td>\n",
       "      <td>0.2575</td>\n",
       "      <td>0.6638</td>\n",
       "      <td>0.17300</td>\n",
       "    </tr>\n",
       "    <tr>\n",
       "      <th>4</th>\n",
       "      <td>84358402</td>\n",
       "      <td>M</td>\n",
       "      <td>20.29</td>\n",
       "      <td>14.34</td>\n",
       "      <td>135.10</td>\n",
       "      <td>1297.0</td>\n",
       "      <td>0.10030</td>\n",
       "      <td>0.13280</td>\n",
       "      <td>0.1980</td>\n",
       "      <td>0.10430</td>\n",
       "      <td>...</td>\n",
       "      <td>22.54</td>\n",
       "      <td>16.67</td>\n",
       "      <td>152.20</td>\n",
       "      <td>1575.0</td>\n",
       "      <td>0.1374</td>\n",
       "      <td>0.2050</td>\n",
       "      <td>0.4000</td>\n",
       "      <td>0.1625</td>\n",
       "      <td>0.2364</td>\n",
       "      <td>0.07678</td>\n",
       "    </tr>\n",
       "  </tbody>\n",
       "</table>\n",
       "<p>5 rows × 32 columns</p>\n",
       "</div>"
      ],
      "text/plain": [
       "         id diagnosis  radius_mean  texture_mean  perimeter_mean  area_mean  \\\n",
       "0    842302         M        17.99         10.38          122.80     1001.0   \n",
       "1    842517         M        20.57         17.77          132.90     1326.0   \n",
       "2  84300903         M        19.69         21.25          130.00     1203.0   \n",
       "3  84348301         M        11.42         20.38           77.58      386.1   \n",
       "4  84358402         M        20.29         14.34          135.10     1297.0   \n",
       "\n",
       "   smoothness_mean  compactness_mean  concavity_mean  concave points_mean  \\\n",
       "0          0.11840           0.27760          0.3001              0.14710   \n",
       "1          0.08474           0.07864          0.0869              0.07017   \n",
       "2          0.10960           0.15990          0.1974              0.12790   \n",
       "3          0.14250           0.28390          0.2414              0.10520   \n",
       "4          0.10030           0.13280          0.1980              0.10430   \n",
       "\n",
       "   ...  radius_worst  texture_worst  perimeter_worst  area_worst  \\\n",
       "0  ...         25.38          17.33           184.60      2019.0   \n",
       "1  ...         24.99          23.41           158.80      1956.0   \n",
       "2  ...         23.57          25.53           152.50      1709.0   \n",
       "3  ...         14.91          26.50            98.87       567.7   \n",
       "4  ...         22.54          16.67           152.20      1575.0   \n",
       "\n",
       "   smoothness_worst  compactness_worst  concavity_worst  concave points_worst  \\\n",
       "0            0.1622             0.6656           0.7119                0.2654   \n",
       "1            0.1238             0.1866           0.2416                0.1860   \n",
       "2            0.1444             0.4245           0.4504                0.2430   \n",
       "3            0.2098             0.8663           0.6869                0.2575   \n",
       "4            0.1374             0.2050           0.4000                0.1625   \n",
       "\n",
       "   symmetry_worst  fractal_dimension_worst  \n",
       "0          0.4601                  0.11890  \n",
       "1          0.2750                  0.08902  \n",
       "2          0.3613                  0.08758  \n",
       "3          0.6638                  0.17300  \n",
       "4          0.2364                  0.07678  \n",
       "\n",
       "[5 rows x 32 columns]"
      ]
     },
     "execution_count": 116,
     "metadata": {},
     "output_type": "execute_result"
    }
   ],
   "source": [
    "datos=pd.read_csv('/home/juanpablo/Documentos/Trabajos Diplomado/Talleres Diplomados/Regresión y clasificación/data.csv')\n",
    "del datos['Unnamed: 32']\n",
    "datos.head(5)"
   ]
  },
  {
   "cell_type": "markdown",
   "metadata": {},
   "source": [
    "### Preprocesamiento de los datos"
   ]
  },
  {
   "cell_type": "code",
   "execution_count": 117,
   "metadata": {},
   "outputs": [],
   "source": [
    "# extrae como tensores numpy\n",
    "x = datos.iloc[:,2:].values #Covariables\n",
    "y = datos.iloc[:,1].values #Variable Objetivo"
   ]
  },
  {
   "cell_type": "markdown",
   "metadata": {},
   "source": [
    "### Recodificación de la Variable Objetivo"
   ]
  },
  {
   "cell_type": "code",
   "execution_count": 118,
   "metadata": {},
   "outputs": [],
   "source": [
    "diagnostico = LabelEncoder()\n",
    "y = diagnostico.fit_transform(y)"
   ]
  },
  {
   "cell_type": "markdown",
   "metadata": {},
   "source": [
    "### Datos para Train y Test"
   ]
  },
  {
   "cell_type": "code",
   "execution_count": 119,
   "metadata": {},
   "outputs": [
    {
     "name": "stdout",
     "output_type": "stream",
     "text": [
      "(57, 30)\n"
     ]
    }
   ],
   "source": [
    "x_train, x_test, y_train, y_test = train_test_split(x, y, test_size = 0.1, random_state = 0)\n",
    "print(x_test.shape)"
   ]
  },
  {
   "cell_type": "markdown",
   "metadata": {},
   "source": [
    "### Estandarización de los Datos"
   ]
  },
  {
   "cell_type": "code",
   "execution_count": 120,
   "metadata": {},
   "outputs": [],
   "source": [
    "sc = StandardScaler()\n",
    "x_train = sc.fit_transform(x_train)\n",
    "x_test = sc.transform(x_test)"
   ]
  },
  {
   "cell_type": "markdown",
   "metadata": {},
   "source": [
    "### Genaración de un Modelo Squential Modo 2"
   ]
  },
  {
   "cell_type": "code",
   "execution_count": 121,
   "metadata": {},
   "outputs": [],
   "source": [
    "clasificador = Sequential()\n",
    "clasificador.add(Dense(units=16, activation='relu', input_shape=(30,)))\n",
    "clasificador.add(Dropout(0.1)) # 10% out in each epoc\n",
    "clasificador.add(Dense(units=16, activation='relu'))\n",
    "clasificador.add(Dropout(0.1))\n",
    "clasificador.add(Dense(units=1, activation='sigmoid'))"
   ]
  },
  {
   "cell_type": "markdown",
   "metadata": {},
   "source": [
    "### Proceso de Compilación"
   ]
  },
  {
   "cell_type": "code",
   "execution_count": 122,
   "metadata": {},
   "outputs": [],
   "source": [
    "clasificador.compile(optimizer='adam', loss='binary_crossentropy', metrics=['accuracy'])"
   ]
  },
  {
   "cell_type": "code",
   "execution_count": 123,
   "metadata": {},
   "outputs": [
    {
     "name": "stdout",
     "output_type": "stream",
     "text": [
      "Model: \"sequential_2\"\n",
      "_________________________________________________________________\n",
      "Layer (type)                 Output Shape              Param #   \n",
      "=================================================================\n",
      "dense_15 (Dense)             (None, 16)                496       \n",
      "_________________________________________________________________\n",
      "dropout_10 (Dropout)         (None, 16)                0         \n",
      "_________________________________________________________________\n",
      "dense_16 (Dense)             (None, 16)                272       \n",
      "_________________________________________________________________\n",
      "dropout_11 (Dropout)         (None, 16)                0         \n",
      "_________________________________________________________________\n",
      "dense_17 (Dense)             (None, 1)                 17        \n",
      "=================================================================\n",
      "Total params: 785\n",
      "Trainable params: 785\n",
      "Non-trainable params: 0\n",
      "_________________________________________________________________\n"
     ]
    }
   ],
   "source": [
    "clasificador.summary()"
   ]
  },
  {
   "cell_type": "markdown",
   "metadata": {},
   "source": [
    "### Entrenamiento"
   ]
  },
  {
   "cell_type": "code",
   "execution_count": 124,
   "metadata": {},
   "outputs": [
    {
     "name": "stdout",
     "output_type": "stream",
     "text": [
      "Epoch 1/150\n",
      "13/13 [==============================] - 0s 27ms/step - loss: 0.7393 - accuracy: 0.4156 - val_loss: 0.6335 - val_accuracy: 0.5146\n",
      "Epoch 2/150\n",
      "13/13 [==============================] - 0s 13ms/step - loss: 0.6260 - accuracy: 0.5648 - val_loss: 0.5450 - val_accuracy: 0.7476\n",
      "Epoch 3/150\n",
      "13/13 [==============================] - 0s 13ms/step - loss: 0.5382 - accuracy: 0.7188 - val_loss: 0.4675 - val_accuracy: 0.8544\n",
      "Epoch 4/150\n",
      "13/13 [==============================] - 0s 11ms/step - loss: 0.4694 - accuracy: 0.8142 - val_loss: 0.3977 - val_accuracy: 0.9612\n",
      "Epoch 5/150\n",
      "13/13 [==============================] - 0s 14ms/step - loss: 0.3973 - accuracy: 0.8998 - val_loss: 0.3362 - val_accuracy: 0.9709\n",
      "Epoch 6/150\n",
      "13/13 [==============================] - 0s 10ms/step - loss: 0.3553 - accuracy: 0.9071 - val_loss: 0.2816 - val_accuracy: 0.9709\n",
      "Epoch 7/150\n",
      "13/13 [==============================] - 0s 12ms/step - loss: 0.2993 - accuracy: 0.9291 - val_loss: 0.2356 - val_accuracy: 0.9709\n",
      "Epoch 8/150\n",
      "13/13 [==============================] - 0s 10ms/step - loss: 0.2563 - accuracy: 0.9315 - val_loss: 0.2001 - val_accuracy: 0.9709\n",
      "Epoch 9/150\n",
      "13/13 [==============================] - 0s 11ms/step - loss: 0.2266 - accuracy: 0.9389 - val_loss: 0.1715 - val_accuracy: 0.9709\n",
      "Epoch 10/150\n",
      "13/13 [==============================] - 0s 13ms/step - loss: 0.1977 - accuracy: 0.9511 - val_loss: 0.1471 - val_accuracy: 0.9709\n",
      "Epoch 11/150\n",
      "13/13 [==============================] - 0s 11ms/step - loss: 0.1816 - accuracy: 0.9609 - val_loss: 0.1276 - val_accuracy: 0.9709\n",
      "Epoch 12/150\n",
      "13/13 [==============================] - 0s 11ms/step - loss: 0.1657 - accuracy: 0.9438 - val_loss: 0.1143 - val_accuracy: 0.9709\n",
      "Epoch 13/150\n",
      "13/13 [==============================] - 0s 11ms/step - loss: 0.1450 - accuracy: 0.9560 - val_loss: 0.1040 - val_accuracy: 0.9709\n",
      "Epoch 14/150\n",
      "13/13 [==============================] - 0s 15ms/step - loss: 0.1497 - accuracy: 0.9560 - val_loss: 0.0959 - val_accuracy: 0.9709\n",
      "Epoch 15/150\n",
      "13/13 [==============================] - 0s 14ms/step - loss: 0.1285 - accuracy: 0.9707 - val_loss: 0.0892 - val_accuracy: 0.9709\n",
      "Epoch 16/150\n",
      "13/13 [==============================] - 0s 9ms/step - loss: 0.1181 - accuracy: 0.9682 - val_loss: 0.0823 - val_accuracy: 0.9709\n",
      "Epoch 17/150\n",
      "13/13 [==============================] - 0s 11ms/step - loss: 0.1078 - accuracy: 0.9682 - val_loss: 0.0771 - val_accuracy: 0.9806\n",
      "Epoch 18/150\n",
      "13/13 [==============================] - 0s 10ms/step - loss: 0.1041 - accuracy: 0.9707 - val_loss: 0.0723 - val_accuracy: 0.9806\n",
      "Epoch 19/150\n",
      "13/13 [==============================] - 0s 11ms/step - loss: 0.1145 - accuracy: 0.9658 - val_loss: 0.0686 - val_accuracy: 0.9806\n",
      "Epoch 20/150\n",
      "13/13 [==============================] - 0s 13ms/step - loss: 0.0920 - accuracy: 0.9731 - val_loss: 0.0647 - val_accuracy: 0.9806\n",
      "Epoch 21/150\n",
      "13/13 [==============================] - 0s 12ms/step - loss: 0.0913 - accuracy: 0.9780 - val_loss: 0.0609 - val_accuracy: 0.9806\n",
      "Epoch 22/150\n",
      "13/13 [==============================] - 0s 13ms/step - loss: 0.0921 - accuracy: 0.9756 - val_loss: 0.0572 - val_accuracy: 0.9806\n",
      "Epoch 23/150\n",
      "13/13 [==============================] - 0s 15ms/step - loss: 0.0923 - accuracy: 0.9707 - val_loss: 0.0553 - val_accuracy: 0.9806\n",
      "Epoch 24/150\n",
      "13/13 [==============================] - 0s 11ms/step - loss: 0.0938 - accuracy: 0.9707 - val_loss: 0.0537 - val_accuracy: 0.9903\n",
      "Epoch 25/150\n",
      "13/13 [==============================] - 0s 12ms/step - loss: 0.0738 - accuracy: 0.9780 - val_loss: 0.0513 - val_accuracy: 0.9903\n",
      "Epoch 26/150\n",
      "13/13 [==============================] - 0s 11ms/step - loss: 0.0837 - accuracy: 0.9780 - val_loss: 0.0492 - val_accuracy: 0.9903\n",
      "Epoch 27/150\n",
      "13/13 [==============================] - 0s 10ms/step - loss: 0.0770 - accuracy: 0.9780 - val_loss: 0.0480 - val_accuracy: 0.9903\n",
      "Epoch 28/150\n",
      "13/13 [==============================] - 0s 11ms/step - loss: 0.0837 - accuracy: 0.9707 - val_loss: 0.0476 - val_accuracy: 0.9903\n",
      "Epoch 29/150\n",
      "13/13 [==============================] - 0s 13ms/step - loss: 0.0679 - accuracy: 0.9756 - val_loss: 0.0463 - val_accuracy: 0.9903\n",
      "Epoch 30/150\n",
      "13/13 [==============================] - 0s 13ms/step - loss: 0.0781 - accuracy: 0.9780 - val_loss: 0.0449 - val_accuracy: 0.9903\n",
      "Epoch 31/150\n",
      "13/13 [==============================] - 0s 13ms/step - loss: 0.0821 - accuracy: 0.9829 - val_loss: 0.0438 - val_accuracy: 0.9903\n",
      "Epoch 32/150\n",
      "13/13 [==============================] - 0s 14ms/step - loss: 0.0643 - accuracy: 0.9829 - val_loss: 0.0426 - val_accuracy: 0.9903\n",
      "Epoch 33/150\n",
      "13/13 [==============================] - 0s 12ms/step - loss: 0.0801 - accuracy: 0.9707 - val_loss: 0.0411 - val_accuracy: 0.9903\n",
      "Epoch 34/150\n",
      "13/13 [==============================] - 0s 9ms/step - loss: 0.0758 - accuracy: 0.9804 - val_loss: 0.0410 - val_accuracy: 0.9903\n",
      "Epoch 35/150\n",
      "13/13 [==============================] - 0s 12ms/step - loss: 0.0696 - accuracy: 0.9780 - val_loss: 0.0402 - val_accuracy: 0.9903\n",
      "Epoch 36/150\n",
      "13/13 [==============================] - 0s 12ms/step - loss: 0.0689 - accuracy: 0.9804 - val_loss: 0.0385 - val_accuracy: 0.9903\n",
      "Epoch 37/150\n",
      "13/13 [==============================] - 0s 21ms/step - loss: 0.0626 - accuracy: 0.9829 - val_loss: 0.0369 - val_accuracy: 0.9903\n",
      "Epoch 38/150\n",
      "13/13 [==============================] - 0s 21ms/step - loss: 0.0637 - accuracy: 0.9780 - val_loss: 0.0365 - val_accuracy: 0.9903\n",
      "Epoch 39/150\n",
      "13/13 [==============================] - 0s 16ms/step - loss: 0.0580 - accuracy: 0.9853 - val_loss: 0.0367 - val_accuracy: 0.9903\n",
      "Epoch 40/150\n",
      "13/13 [==============================] - 0s 10ms/step - loss: 0.0640 - accuracy: 0.9756 - val_loss: 0.0378 - val_accuracy: 0.9903\n",
      "Epoch 41/150\n",
      "13/13 [==============================] - 0s 11ms/step - loss: 0.0634 - accuracy: 0.9829 - val_loss: 0.0375 - val_accuracy: 0.9903\n",
      "Epoch 42/150\n",
      "13/13 [==============================] - 0s 13ms/step - loss: 0.0597 - accuracy: 0.9829 - val_loss: 0.0351 - val_accuracy: 0.9903\n",
      "Epoch 43/150\n",
      "13/13 [==============================] - 0s 11ms/step - loss: 0.0646 - accuracy: 0.9878 - val_loss: 0.0341 - val_accuracy: 0.9903\n",
      "Epoch 44/150\n",
      "13/13 [==============================] - 0s 8ms/step - loss: 0.0653 - accuracy: 0.9853 - val_loss: 0.0325 - val_accuracy: 1.0000\n",
      "Epoch 45/150\n",
      "13/13 [==============================] - 0s 21ms/step - loss: 0.0607 - accuracy: 0.9829 - val_loss: 0.0318 - val_accuracy: 1.0000\n",
      "Epoch 46/150\n",
      "13/13 [==============================] - 0s 12ms/step - loss: 0.0621 - accuracy: 0.9829 - val_loss: 0.0300 - val_accuracy: 1.0000\n",
      "Epoch 47/150\n",
      "13/13 [==============================] - 0s 8ms/step - loss: 0.0620 - accuracy: 0.9804 - val_loss: 0.0299 - val_accuracy: 0.9903\n",
      "Epoch 48/150\n",
      "13/13 [==============================] - 0s 9ms/step - loss: 0.0605 - accuracy: 0.9878 - val_loss: 0.0286 - val_accuracy: 0.9903\n",
      "Epoch 49/150\n",
      "13/13 [==============================] - 0s 9ms/step - loss: 0.0545 - accuracy: 0.9853 - val_loss: 0.0290 - val_accuracy: 0.9903\n",
      "Epoch 50/150\n",
      "13/13 [==============================] - 0s 16ms/step - loss: 0.0510 - accuracy: 0.9878 - val_loss: 0.0284 - val_accuracy: 0.9903\n",
      "Epoch 51/150\n",
      "13/13 [==============================] - 0s 9ms/step - loss: 0.0508 - accuracy: 0.9878 - val_loss: 0.0277 - val_accuracy: 1.0000\n",
      "Epoch 52/150\n",
      "13/13 [==============================] - 0s 10ms/step - loss: 0.0528 - accuracy: 0.9853 - val_loss: 0.0277 - val_accuracy: 0.9903\n",
      "Epoch 53/150\n",
      "13/13 [==============================] - 0s 11ms/step - loss: 0.0490 - accuracy: 0.9902 - val_loss: 0.0275 - val_accuracy: 0.9903\n",
      "Epoch 54/150\n",
      "13/13 [==============================] - 0s 9ms/step - loss: 0.0487 - accuracy: 0.9780 - val_loss: 0.0257 - val_accuracy: 1.0000\n",
      "Epoch 55/150\n",
      "13/13 [==============================] - 0s 18ms/step - loss: 0.0564 - accuracy: 0.9756 - val_loss: 0.0242 - val_accuracy: 1.0000\n",
      "Epoch 56/150\n",
      "13/13 [==============================] - 0s 13ms/step - loss: 0.0561 - accuracy: 0.9829 - val_loss: 0.0240 - val_accuracy: 0.9903\n",
      "Epoch 57/150\n",
      "13/13 [==============================] - 0s 10ms/step - loss: 0.0512 - accuracy: 0.9853 - val_loss: 0.0246 - val_accuracy: 0.9903\n",
      "Epoch 58/150\n",
      "13/13 [==============================] - 0s 8ms/step - loss: 0.0456 - accuracy: 0.9878 - val_loss: 0.0256 - val_accuracy: 0.9903\n",
      "Epoch 59/150\n",
      "13/13 [==============================] - 0s 12ms/step - loss: 0.0467 - accuracy: 0.9878 - val_loss: 0.0254 - val_accuracy: 0.9903\n",
      "Epoch 60/150\n",
      "13/13 [==============================] - 0s 11ms/step - loss: 0.0504 - accuracy: 0.9853 - val_loss: 0.0251 - val_accuracy: 0.9903\n",
      "Epoch 61/150\n",
      "13/13 [==============================] - 0s 13ms/step - loss: 0.0501 - accuracy: 0.9878 - val_loss: 0.0249 - val_accuracy: 0.9903\n",
      "Epoch 62/150\n",
      "13/13 [==============================] - 0s 11ms/step - loss: 0.0424 - accuracy: 0.9878 - val_loss: 0.0248 - val_accuracy: 0.9903\n",
      "Epoch 63/150\n",
      "13/13 [==============================] - 0s 8ms/step - loss: 0.0432 - accuracy: 0.9853 - val_loss: 0.0239 - val_accuracy: 0.9903\n",
      "Epoch 64/150\n",
      "13/13 [==============================] - 0s 9ms/step - loss: 0.0447 - accuracy: 0.9902 - val_loss: 0.0233 - val_accuracy: 0.9903\n",
      "Epoch 65/150\n",
      "13/13 [==============================] - 0s 8ms/step - loss: 0.0435 - accuracy: 0.9878 - val_loss: 0.0237 - val_accuracy: 0.9903\n",
      "Epoch 66/150\n",
      "13/13 [==============================] - 0s 9ms/step - loss: 0.0400 - accuracy: 0.9878 - val_loss: 0.0228 - val_accuracy: 0.9903\n",
      "Epoch 67/150\n",
      "13/13 [==============================] - 0s 8ms/step - loss: 0.0498 - accuracy: 0.9853 - val_loss: 0.0223 - val_accuracy: 0.9903\n",
      "Epoch 68/150\n",
      "13/13 [==============================] - 0s 8ms/step - loss: 0.0455 - accuracy: 0.9804 - val_loss: 0.0234 - val_accuracy: 0.9903\n",
      "Epoch 69/150\n",
      "13/13 [==============================] - 0s 8ms/step - loss: 0.0398 - accuracy: 0.9878 - val_loss: 0.0233 - val_accuracy: 0.9903\n",
      "Epoch 70/150\n",
      "13/13 [==============================] - 0s 9ms/step - loss: 0.0403 - accuracy: 0.9878 - val_loss: 0.0226 - val_accuracy: 0.9903\n",
      "Epoch 71/150\n",
      "13/13 [==============================] - 0s 10ms/step - loss: 0.0399 - accuracy: 0.9902 - val_loss: 0.0225 - val_accuracy: 0.9903\n",
      "Epoch 72/150\n",
      "13/13 [==============================] - 0s 18ms/step - loss: 0.0388 - accuracy: 0.9902 - val_loss: 0.0226 - val_accuracy: 0.9903\n",
      "Epoch 73/150\n",
      "13/13 [==============================] - 0s 15ms/step - loss: 0.0383 - accuracy: 0.9878 - val_loss: 0.0222 - val_accuracy: 0.9903\n",
      "Epoch 74/150\n",
      "13/13 [==============================] - 0s 12ms/step - loss: 0.0401 - accuracy: 0.9853 - val_loss: 0.0214 - val_accuracy: 0.9903\n",
      "Epoch 75/150\n",
      "13/13 [==============================] - 0s 9ms/step - loss: 0.0589 - accuracy: 0.9780 - val_loss: 0.0220 - val_accuracy: 0.9903\n",
      "Epoch 76/150\n",
      "13/13 [==============================] - 0s 11ms/step - loss: 0.0392 - accuracy: 0.9829 - val_loss: 0.0232 - val_accuracy: 0.9903\n",
      "Epoch 77/150\n",
      "13/13 [==============================] - 0s 11ms/step - loss: 0.0368 - accuracy: 0.9927 - val_loss: 0.0235 - val_accuracy: 0.9903\n",
      "Epoch 78/150\n",
      "13/13 [==============================] - 0s 21ms/step - loss: 0.0449 - accuracy: 0.9829 - val_loss: 0.0207 - val_accuracy: 0.9903\n",
      "Epoch 79/150\n",
      "13/13 [==============================] - 0s 9ms/step - loss: 0.0412 - accuracy: 0.9878 - val_loss: 0.0199 - val_accuracy: 0.9903\n",
      "Epoch 80/150\n",
      "13/13 [==============================] - 0s 15ms/step - loss: 0.0347 - accuracy: 0.9902 - val_loss: 0.0200 - val_accuracy: 0.9903\n",
      "Epoch 81/150\n",
      "13/13 [==============================] - 0s 9ms/step - loss: 0.0392 - accuracy: 0.9853 - val_loss: 0.0194 - val_accuracy: 0.9903\n",
      "Epoch 82/150\n",
      "13/13 [==============================] - 0s 8ms/step - loss: 0.0382 - accuracy: 0.9853 - val_loss: 0.0184 - val_accuracy: 0.9903\n",
      "Epoch 83/150\n",
      "13/13 [==============================] - 0s 8ms/step - loss: 0.0328 - accuracy: 0.9927 - val_loss: 0.0180 - val_accuracy: 0.9903\n",
      "Epoch 84/150\n",
      "13/13 [==============================] - 0s 9ms/step - loss: 0.0424 - accuracy: 0.9853 - val_loss: 0.0169 - val_accuracy: 0.9903\n",
      "Epoch 85/150\n",
      "13/13 [==============================] - 0s 9ms/step - loss: 0.0332 - accuracy: 0.9902 - val_loss: 0.0162 - val_accuracy: 1.0000\n",
      "Epoch 86/150\n",
      "13/13 [==============================] - 0s 9ms/step - loss: 0.0361 - accuracy: 0.9902 - val_loss: 0.0163 - val_accuracy: 0.9903\n",
      "Epoch 87/150\n",
      "13/13 [==============================] - 0s 9ms/step - loss: 0.0340 - accuracy: 0.9902 - val_loss: 0.0173 - val_accuracy: 0.9903\n",
      "Epoch 88/150\n",
      "13/13 [==============================] - 0s 16ms/step - loss: 0.0299 - accuracy: 0.9927 - val_loss: 0.0170 - val_accuracy: 0.9903\n",
      "Epoch 89/150\n",
      "13/13 [==============================] - 0s 8ms/step - loss: 0.0277 - accuracy: 0.9927 - val_loss: 0.0170 - val_accuracy: 0.9903\n",
      "Epoch 90/150\n",
      "13/13 [==============================] - 0s 7ms/step - loss: 0.0427 - accuracy: 0.9853 - val_loss: 0.0171 - val_accuracy: 0.9903\n",
      "Epoch 91/150\n",
      "13/13 [==============================] - 0s 8ms/step - loss: 0.0365 - accuracy: 0.9902 - val_loss: 0.0169 - val_accuracy: 0.9903\n",
      "Epoch 92/150\n",
      "13/13 [==============================] - 0s 8ms/step - loss: 0.0302 - accuracy: 0.9878 - val_loss: 0.0164 - val_accuracy: 0.9903\n",
      "Epoch 93/150\n",
      "13/13 [==============================] - 0s 8ms/step - loss: 0.0476 - accuracy: 0.9780 - val_loss: 0.0171 - val_accuracy: 0.9903\n",
      "Epoch 94/150\n",
      "13/13 [==============================] - 0s 9ms/step - loss: 0.0242 - accuracy: 0.9927 - val_loss: 0.0166 - val_accuracy: 0.9903\n",
      "Epoch 95/150\n",
      "13/13 [==============================] - 0s 9ms/step - loss: 0.0336 - accuracy: 0.9853 - val_loss: 0.0155 - val_accuracy: 0.9903\n",
      "Epoch 96/150\n",
      "13/13 [==============================] - 0s 20ms/step - loss: 0.0308 - accuracy: 0.9902 - val_loss: 0.0171 - val_accuracy: 0.9903\n",
      "Epoch 97/150\n",
      "13/13 [==============================] - 0s 13ms/step - loss: 0.0275 - accuracy: 0.9927 - val_loss: 0.0176 - val_accuracy: 0.9903\n",
      "Epoch 98/150\n",
      "13/13 [==============================] - ETA: 0s - loss: 0.0301 - accuracy: 0.98 - 0s 15ms/step - loss: 0.0287 - accuracy: 0.9902 - val_loss: 0.0173 - val_accuracy: 0.9903\n",
      "Epoch 99/150\n",
      "13/13 [==============================] - 0s 8ms/step - loss: 0.0294 - accuracy: 0.9878 - val_loss: 0.0172 - val_accuracy: 0.9903\n",
      "Epoch 100/150\n",
      "13/13 [==============================] - 0s 7ms/step - loss: 0.0336 - accuracy: 0.9902 - val_loss: 0.0167 - val_accuracy: 0.9903\n",
      "Epoch 101/150\n",
      "13/13 [==============================] - 0s 8ms/step - loss: 0.0284 - accuracy: 0.9927 - val_loss: 0.0166 - val_accuracy: 0.9903\n",
      "Epoch 102/150\n",
      "13/13 [==============================] - 0s 11ms/step - loss: 0.0263 - accuracy: 0.9927 - val_loss: 0.0171 - val_accuracy: 0.9903\n",
      "Epoch 103/150\n",
      "13/13 [==============================] - 0s 8ms/step - loss: 0.0264 - accuracy: 0.9927 - val_loss: 0.0170 - val_accuracy: 0.9903\n",
      "Epoch 104/150\n",
      "13/13 [==============================] - 0s 12ms/step - loss: 0.0294 - accuracy: 0.9927 - val_loss: 0.0154 - val_accuracy: 0.9903\n",
      "Epoch 105/150\n",
      "13/13 [==============================] - 0s 9ms/step - loss: 0.0297 - accuracy: 0.9927 - val_loss: 0.0156 - val_accuracy: 0.9903\n",
      "Epoch 106/150\n",
      "13/13 [==============================] - 0s 9ms/step - loss: 0.0266 - accuracy: 0.9951 - val_loss: 0.0150 - val_accuracy: 0.9903\n",
      "Epoch 107/150\n",
      "13/13 [==============================] - 0s 11ms/step - loss: 0.0257 - accuracy: 0.9902 - val_loss: 0.0149 - val_accuracy: 0.9903\n",
      "Epoch 108/150\n",
      "13/13 [==============================] - 0s 8ms/step - loss: 0.0247 - accuracy: 0.9927 - val_loss: 0.0155 - val_accuracy: 0.9903\n",
      "Epoch 109/150\n",
      "13/13 [==============================] - 0s 10ms/step - loss: 0.0347 - accuracy: 0.9878 - val_loss: 0.0146 - val_accuracy: 0.9903\n",
      "Epoch 110/150\n",
      "13/13 [==============================] - 0s 10ms/step - loss: 0.0230 - accuracy: 0.9951 - val_loss: 0.0143 - val_accuracy: 0.9903\n",
      "Epoch 111/150\n",
      "13/13 [==============================] - 0s 18ms/step - loss: 0.0329 - accuracy: 0.9902 - val_loss: 0.0140 - val_accuracy: 0.9903\n",
      "Epoch 112/150\n",
      "13/13 [==============================] - 0s 17ms/step - loss: 0.0165 - accuracy: 0.9927 - val_loss: 0.0140 - val_accuracy: 0.9903\n",
      "Epoch 113/150\n",
      "13/13 [==============================] - 0s 9ms/step - loss: 0.0204 - accuracy: 0.9951 - val_loss: 0.0147 - val_accuracy: 0.9903\n",
      "Epoch 114/150\n",
      "13/13 [==============================] - 0s 11ms/step - loss: 0.0346 - accuracy: 0.9853 - val_loss: 0.0134 - val_accuracy: 0.9903\n",
      "Epoch 115/150\n",
      "13/13 [==============================] - 0s 8ms/step - loss: 0.0217 - accuracy: 0.9951 - val_loss: 0.0150 - val_accuracy: 0.9903\n",
      "Epoch 116/150\n",
      "13/13 [==============================] - 0s 16ms/step - loss: 0.0229 - accuracy: 0.9951 - val_loss: 0.0145 - val_accuracy: 0.9903\n",
      "Epoch 117/150\n",
      "13/13 [==============================] - 0s 13ms/step - loss: 0.0325 - accuracy: 0.9902 - val_loss: 0.0141 - val_accuracy: 0.9903\n",
      "Epoch 118/150\n",
      "13/13 [==============================] - 0s 20ms/step - loss: 0.0225 - accuracy: 0.9902 - val_loss: 0.0129 - val_accuracy: 0.9903\n",
      "Epoch 119/150\n",
      "13/13 [==============================] - 0s 16ms/step - loss: 0.0214 - accuracy: 0.9951 - val_loss: 0.0122 - val_accuracy: 0.9903\n",
      "Epoch 120/150\n",
      "13/13 [==============================] - 0s 13ms/step - loss: 0.0230 - accuracy: 0.9976 - val_loss: 0.0129 - val_accuracy: 0.9903\n",
      "Epoch 121/150\n",
      "13/13 [==============================] - 0s 25ms/step - loss: 0.0228 - accuracy: 0.9902 - val_loss: 0.0129 - val_accuracy: 0.9903\n",
      "Epoch 122/150\n",
      "13/13 [==============================] - 0s 17ms/step - loss: 0.0286 - accuracy: 0.9878 - val_loss: 0.0122 - val_accuracy: 0.9903\n",
      "Epoch 123/150\n",
      "13/13 [==============================] - 0s 17ms/step - loss: 0.0232 - accuracy: 0.9951 - val_loss: 0.0127 - val_accuracy: 0.9903\n",
      "Epoch 124/150\n",
      "13/13 [==============================] - 0s 12ms/step - loss: 0.0136 - accuracy: 0.9951 - val_loss: 0.0130 - val_accuracy: 0.9903\n",
      "Epoch 125/150\n",
      "13/13 [==============================] - 0s 13ms/step - loss: 0.0202 - accuracy: 0.9927 - val_loss: 0.0144 - val_accuracy: 0.9903\n",
      "Epoch 126/150\n",
      "13/13 [==============================] - 0s 19ms/step - loss: 0.0269 - accuracy: 0.9951 - val_loss: 0.0137 - val_accuracy: 0.9903\n",
      "Epoch 127/150\n",
      "13/13 [==============================] - 0s 13ms/step - loss: 0.0234 - accuracy: 0.9902 - val_loss: 0.0131 - val_accuracy: 0.9903\n",
      "Epoch 128/150\n",
      "13/13 [==============================] - 0s 15ms/step - loss: 0.0184 - accuracy: 0.9951 - val_loss: 0.0122 - val_accuracy: 0.9903\n",
      "Epoch 129/150\n",
      "13/13 [==============================] - 0s 14ms/step - loss: 0.0259 - accuracy: 0.9927 - val_loss: 0.0116 - val_accuracy: 0.9903\n",
      "Epoch 130/150\n",
      "13/13 [==============================] - 0s 12ms/step - loss: 0.0211 - accuracy: 0.9927 - val_loss: 0.0116 - val_accuracy: 0.9903\n",
      "Epoch 131/150\n",
      "13/13 [==============================] - 0s 12ms/step - loss: 0.0203 - accuracy: 0.9951 - val_loss: 0.0119 - val_accuracy: 0.9903\n",
      "Epoch 132/150\n",
      "13/13 [==============================] - 0s 11ms/step - loss: 0.0180 - accuracy: 0.9951 - val_loss: 0.0121 - val_accuracy: 0.9903\n",
      "Epoch 133/150\n",
      "13/13 [==============================] - 0s 10ms/step - loss: 0.0160 - accuracy: 0.9927 - val_loss: 0.0123 - val_accuracy: 0.9903\n",
      "Epoch 134/150\n",
      "13/13 [==============================] - 0s 11ms/step - loss: 0.0269 - accuracy: 0.9878 - val_loss: 0.0124 - val_accuracy: 0.9903\n",
      "Epoch 135/150\n",
      "13/13 [==============================] - 0s 11ms/step - loss: 0.0239 - accuracy: 0.9927 - val_loss: 0.0127 - val_accuracy: 0.9903\n",
      "Epoch 136/150\n",
      "13/13 [==============================] - 0s 15ms/step - loss: 0.0195 - accuracy: 0.9927 - val_loss: 0.0122 - val_accuracy: 0.9903\n",
      "Epoch 137/150\n",
      "13/13 [==============================] - 0s 16ms/step - loss: 0.0175 - accuracy: 0.9951 - val_loss: 0.0120 - val_accuracy: 0.9903\n",
      "Epoch 138/150\n",
      "13/13 [==============================] - 0s 13ms/step - loss: 0.0218 - accuracy: 0.9927 - val_loss: 0.0112 - val_accuracy: 0.9903\n",
      "Epoch 139/150\n",
      "13/13 [==============================] - 0s 13ms/step - loss: 0.0259 - accuracy: 0.9927 - val_loss: 0.0103 - val_accuracy: 0.9903\n",
      "Epoch 140/150\n",
      "13/13 [==============================] - 0s 11ms/step - loss: 0.0147 - accuracy: 0.9976 - val_loss: 0.0111 - val_accuracy: 0.9903\n",
      "Epoch 141/150\n",
      "13/13 [==============================] - 0s 14ms/step - loss: 0.0199 - accuracy: 0.9951 - val_loss: 0.0115 - val_accuracy: 0.9903\n",
      "Epoch 142/150\n",
      "13/13 [==============================] - 0s 12ms/step - loss: 0.0166 - accuracy: 0.9976 - val_loss: 0.0116 - val_accuracy: 0.9903\n",
      "Epoch 143/150\n",
      "13/13 [==============================] - 0s 12ms/step - loss: 0.0261 - accuracy: 0.9902 - val_loss: 0.0112 - val_accuracy: 0.9903\n",
      "Epoch 144/150\n",
      "13/13 [==============================] - 0s 10ms/step - loss: 0.0248 - accuracy: 0.9902 - val_loss: 0.0116 - val_accuracy: 0.9903\n",
      "Epoch 145/150\n",
      "13/13 [==============================] - 0s 13ms/step - loss: 0.0158 - accuracy: 0.9976 - val_loss: 0.0119 - val_accuracy: 0.9903\n",
      "Epoch 146/150\n",
      "13/13 [==============================] - 0s 14ms/step - loss: 0.0150 - accuracy: 0.9976 - val_loss: 0.0120 - val_accuracy: 0.9903\n",
      "Epoch 147/150\n",
      "13/13 [==============================] - 0s 12ms/step - loss: 0.0197 - accuracy: 0.9927 - val_loss: 0.0122 - val_accuracy: 0.9903\n",
      "Epoch 148/150\n",
      "13/13 [==============================] - 0s 10ms/step - loss: 0.0152 - accuracy: 0.9951 - val_loss: 0.0116 - val_accuracy: 0.9903\n",
      "Epoch 149/150\n",
      "13/13 [==============================] - 0s 16ms/step - loss: 0.0146 - accuracy: 0.9976 - val_loss: 0.0117 - val_accuracy: 0.9903\n",
      "Epoch 150/150\n",
      "13/13 [==============================] - 0s 13ms/step - loss: 0.0193 - accuracy: 0.9951 - val_loss: 0.0115 - val_accuracy: 0.9903\n"
     ]
    }
   ],
   "source": [
    "history = clasificador.fit(x_train, y_train, batch_size=32, epochs=150,validation_split = 0.2)"
   ]
  },
  {
   "cell_type": "markdown",
   "metadata": {},
   "source": [
    "### Predicciones"
   ]
  },
  {
   "cell_type": "code",
   "execution_count": 125,
   "metadata": {},
   "outputs": [],
   "source": [
    "y_pred = clasificador.predict(x_test)\n",
    "y_pred[y_pred > 0.5] = 1\n",
    "y_pred[y_pred <=0.5] = 0"
   ]
  },
  {
   "cell_type": "markdown",
   "metadata": {},
   "source": [
    "### Matriz de Confusión"
   ]
  },
  {
   "cell_type": "code",
   "execution_count": 126,
   "metadata": {},
   "outputs": [],
   "source": [
    "cm = confusion_matrix(y_test, y_pred)"
   ]
  },
  {
   "cell_type": "code",
   "execution_count": 127,
   "metadata": {},
   "outputs": [
    {
     "name": "stdout",
     "output_type": "stream",
     "text": [
      "Our accuracy is 100.0%\n"
     ]
    }
   ],
   "source": [
    "print(\"Our accuracy is {}%\".format(((cm[0][0] + cm[1][1])/y_test.shape[0])*100))"
   ]
  },
  {
   "cell_type": "code",
   "execution_count": 128,
   "metadata": {},
   "outputs": [
    {
     "data": {
      "image/png": "[encoded data removed]",
      "text/plain": [
       "<Figure size 432x288 with 2 Axes>"
      ]
     },
     "metadata": {
      "needs_background": "light"
     },
     "output_type": "display_data"
    }
   ],
   "source": [
    "sb.heatmap(cm,annot=True,cmap=\"BuPu\")\n",
    "plt.savefig('h.png')"
   ]
  },
  {
   "cell_type": "markdown",
   "metadata": {},
   "source": [
    "### Evaluación del Modelo "
   ]
  },
  {
   "cell_type": "code",
   "execution_count": 129,
   "metadata": {},
   "outputs": [],
   "source": [
    "def plot_metric(history, metric):\n",
    "    train_metrics = history.history[metric]\n",
    "    val_metrics = history.history['val_'+metric]\n",
    "    epochs = range(1, len(train_metrics) + 1)\n",
    "    plt.plot(epochs, train_metrics, 'bo--')\n",
    "    plt.plot(epochs, val_metrics, 'ro-')\n",
    "    plt.title('Entrenamiento y validación '+ metric)\n",
    "    plt.xlabel(\"Epochs\")\n",
    "    plt.ylabel(metric)\n",
    "    plt.legend([\"train_\"+metric, 'val_'+metric])\n",
    "    plt.show()"
   ]
  },
  {
   "cell_type": "code",
   "execution_count": 130,
   "metadata": {},
   "outputs": [
    {
     "data": {
      "image/png": "[encoded data removed]",
      "text/plain": [
       "<Figure size 432x288 with 1 Axes>"
      ]
     },
     "metadata": {
      "needs_background": "light"
     },
     "output_type": "display_data"
    }
   ],
   "source": [
    "plot_metric(history, 'loss')"
   ]
  },
  {
   "cell_type": "code",
   "execution_count": 131,
   "metadata": {},
   "outputs": [
    {
     "data": {
      "image/png": "[encoded data removed]",
      "text/plain": [
       "<Figure size 432x288 with 1 Axes>"
      ]
     },
     "metadata": {
      "needs_background": "light"
     },
     "output_type": "display_data"
    }
   ],
   "source": [
    "plot_metric(history, 'accuracy')"
   ]
  },
  {
   "cell_type": "markdown",
   "metadata": {},
   "source": [
    "## 2. Boston Housing\n",
    "\n",
    "Construya una red neuronal de regresión poara predecir el precio de las viviendas. Use los datos Boston Housing."
   ]
  },
  {
   "cell_type": "code",
   "execution_count": 132,
   "metadata": {},
   "outputs": [],
   "source": [
    "from sklearn.datasets import load_boston\n",
    "data = load_boston()"
   ]
  },
  {
   "cell_type": "code",
   "execution_count": 133,
   "metadata": {},
   "outputs": [
    {
     "data": {
      "text/html": [
       "<div>\n",
       "<style scoped>\n",
       "    .dataframe tbody tr th:only-of-type {\n",
       "        vertical-align: middle;\n",
       "    }\n",
       "\n",
       "    .dataframe tbody tr th {\n",
       "        vertical-align: top;\n",
       "    }\n",
       "\n",
       "    .dataframe thead th {\n",
       "        text-align: right;\n",
       "    }\n",
       "</style>\n",
       "<table border=\"1\" class=\"dataframe\">\n",
       "  <thead>\n",
       "    <tr style=\"text-align: right;\">\n",
       "      <th></th>\n",
       "      <th>CRIM</th>\n",
       "      <th>ZN</th>\n",
       "      <th>INDUS</th>\n",
       "      <th>CHAS</th>\n",
       "      <th>NOX</th>\n",
       "      <th>RM</th>\n",
       "      <th>AGE</th>\n",
       "      <th>DIS</th>\n",
       "      <th>RAD</th>\n",
       "      <th>TAX</th>\n",
       "      <th>PTRATIO</th>\n",
       "      <th>B</th>\n",
       "      <th>LSTAT</th>\n",
       "      <th>target</th>\n",
       "    </tr>\n",
       "  </thead>\n",
       "  <tbody>\n",
       "    <tr>\n",
       "      <th>0</th>\n",
       "      <td>0.00632</td>\n",
       "      <td>18.0</td>\n",
       "      <td>2.31</td>\n",
       "      <td>0.0</td>\n",
       "      <td>0.538</td>\n",
       "      <td>6.575</td>\n",
       "      <td>65.2</td>\n",
       "      <td>4.0900</td>\n",
       "      <td>1.0</td>\n",
       "      <td>296.0</td>\n",
       "      <td>15.3</td>\n",
       "      <td>396.90</td>\n",
       "      <td>4.98</td>\n",
       "      <td>24.0</td>\n",
       "    </tr>\n",
       "    <tr>\n",
       "      <th>1</th>\n",
       "      <td>0.02731</td>\n",
       "      <td>0.0</td>\n",
       "      <td>7.07</td>\n",
       "      <td>0.0</td>\n",
       "      <td>0.469</td>\n",
       "      <td>6.421</td>\n",
       "      <td>78.9</td>\n",
       "      <td>4.9671</td>\n",
       "      <td>2.0</td>\n",
       "      <td>242.0</td>\n",
       "      <td>17.8</td>\n",
       "      <td>396.90</td>\n",
       "      <td>9.14</td>\n",
       "      <td>21.6</td>\n",
       "    </tr>\n",
       "    <tr>\n",
       "      <th>2</th>\n",
       "      <td>0.02729</td>\n",
       "      <td>0.0</td>\n",
       "      <td>7.07</td>\n",
       "      <td>0.0</td>\n",
       "      <td>0.469</td>\n",
       "      <td>7.185</td>\n",
       "      <td>61.1</td>\n",
       "      <td>4.9671</td>\n",
       "      <td>2.0</td>\n",
       "      <td>242.0</td>\n",
       "      <td>17.8</td>\n",
       "      <td>392.83</td>\n",
       "      <td>4.03</td>\n",
       "      <td>34.7</td>\n",
       "    </tr>\n",
       "    <tr>\n",
       "      <th>3</th>\n",
       "      <td>0.03237</td>\n",
       "      <td>0.0</td>\n",
       "      <td>2.18</td>\n",
       "      <td>0.0</td>\n",
       "      <td>0.458</td>\n",
       "      <td>6.998</td>\n",
       "      <td>45.8</td>\n",
       "      <td>6.0622</td>\n",
       "      <td>3.0</td>\n",
       "      <td>222.0</td>\n",
       "      <td>18.7</td>\n",
       "      <td>394.63</td>\n",
       "      <td>2.94</td>\n",
       "      <td>33.4</td>\n",
       "    </tr>\n",
       "    <tr>\n",
       "      <th>4</th>\n",
       "      <td>0.06905</td>\n",
       "      <td>0.0</td>\n",
       "      <td>2.18</td>\n",
       "      <td>0.0</td>\n",
       "      <td>0.458</td>\n",
       "      <td>7.147</td>\n",
       "      <td>54.2</td>\n",
       "      <td>6.0622</td>\n",
       "      <td>3.0</td>\n",
       "      <td>222.0</td>\n",
       "      <td>18.7</td>\n",
       "      <td>396.90</td>\n",
       "      <td>5.33</td>\n",
       "      <td>36.2</td>\n",
       "    </tr>\n",
       "  </tbody>\n",
       "</table>\n",
       "</div>"
      ],
      "text/plain": [
       "      CRIM    ZN  INDUS  CHAS    NOX     RM   AGE     DIS  RAD    TAX  \\\n",
       "0  0.00632  18.0   2.31   0.0  0.538  6.575  65.2  4.0900  1.0  296.0   \n",
       "1  0.02731   0.0   7.07   0.0  0.469  6.421  78.9  4.9671  2.0  242.0   \n",
       "2  0.02729   0.0   7.07   0.0  0.469  7.185  61.1  4.9671  2.0  242.0   \n",
       "3  0.03237   0.0   2.18   0.0  0.458  6.998  45.8  6.0622  3.0  222.0   \n",
       "4  0.06905   0.0   2.18   0.0  0.458  7.147  54.2  6.0622  3.0  222.0   \n",
       "\n",
       "   PTRATIO       B  LSTAT  target  \n",
       "0     15.3  396.90   4.98    24.0  \n",
       "1     17.8  396.90   9.14    21.6  \n",
       "2     17.8  392.83   4.03    34.7  \n",
       "3     18.7  394.63   2.94    33.4  \n",
       "4     18.7  396.90   5.33    36.2  "
      ]
     },
     "execution_count": 133,
     "metadata": {},
     "output_type": "execute_result"
    }
   ],
   "source": [
    "boston = pd.DataFrame(data.data, columns = data.feature_names)\n",
    "boston[\"target\"] = data.target\n",
    "boston.head(5)"
   ]
  },
  {
   "cell_type": "markdown",
   "metadata": {},
   "source": [
    "### Preprocesamiento de los datos"
   ]
  },
  {
   "cell_type": "code",
   "execution_count": 134,
   "metadata": {},
   "outputs": [],
   "source": [
    "boston.isna().sum()\n",
    "dataset = boston.dropna()"
   ]
  },
  {
   "cell_type": "markdown",
   "metadata": {},
   "source": [
    "### Entrenamiemto y Test"
   ]
  },
  {
   "cell_type": "code",
   "execution_count": 135,
   "metadata": {},
   "outputs": [],
   "source": [
    "train_boston = boston.sample(frac=0.8,random_state=0)\n",
    "test_boston = boston.drop(train_boston.index)"
   ]
  },
  {
   "cell_type": "code",
   "execution_count": 136,
   "metadata": {},
   "outputs": [
    {
     "data": {
      "text/html": [
       "<div>\n",
       "<style scoped>\n",
       "    .dataframe tbody tr th:only-of-type {\n",
       "        vertical-align: middle;\n",
       "    }\n",
       "\n",
       "    .dataframe tbody tr th {\n",
       "        vertical-align: top;\n",
       "    }\n",
       "\n",
       "    .dataframe thead th {\n",
       "        text-align: right;\n",
       "    }\n",
       "</style>\n",
       "<table border=\"1\" class=\"dataframe\">\n",
       "  <thead>\n",
       "    <tr style=\"text-align: right;\">\n",
       "      <th></th>\n",
       "      <th>count</th>\n",
       "      <th>mean</th>\n",
       "      <th>std</th>\n",
       "      <th>min</th>\n",
       "      <th>25%</th>\n",
       "      <th>50%</th>\n",
       "      <th>75%</th>\n",
       "      <th>max</th>\n",
       "    </tr>\n",
       "  </thead>\n",
       "  <tbody>\n",
       "    <tr>\n",
       "      <th>CRIM</th>\n",
       "      <td>405.0</td>\n",
       "      <td>3.670339</td>\n",
       "      <td>8.977954</td>\n",
       "      <td>0.00632</td>\n",
       "      <td>0.08265</td>\n",
       "      <td>0.26838</td>\n",
       "      <td>3.47428</td>\n",
       "      <td>88.9762</td>\n",
       "    </tr>\n",
       "    <tr>\n",
       "      <th>ZN</th>\n",
       "      <td>405.0</td>\n",
       "      <td>11.067901</td>\n",
       "      <td>22.688396</td>\n",
       "      <td>0.00000</td>\n",
       "      <td>0.00000</td>\n",
       "      <td>0.00000</td>\n",
       "      <td>12.50000</td>\n",
       "      <td>95.0000</td>\n",
       "    </tr>\n",
       "    <tr>\n",
       "      <th>INDUS</th>\n",
       "      <td>405.0</td>\n",
       "      <td>11.097951</td>\n",
       "      <td>6.699157</td>\n",
       "      <td>0.74000</td>\n",
       "      <td>5.32000</td>\n",
       "      <td>9.69000</td>\n",
       "      <td>18.10000</td>\n",
       "      <td>27.7400</td>\n",
       "    </tr>\n",
       "    <tr>\n",
       "      <th>CHAS</th>\n",
       "      <td>405.0</td>\n",
       "      <td>0.069136</td>\n",
       "      <td>0.253999</td>\n",
       "      <td>0.00000</td>\n",
       "      <td>0.00000</td>\n",
       "      <td>0.00000</td>\n",
       "      <td>0.00000</td>\n",
       "      <td>1.0000</td>\n",
       "    </tr>\n",
       "    <tr>\n",
       "      <th>NOX</th>\n",
       "      <td>405.0</td>\n",
       "      <td>0.553098</td>\n",
       "      <td>0.115564</td>\n",
       "      <td>0.38500</td>\n",
       "      <td>0.44900</td>\n",
       "      <td>0.53800</td>\n",
       "      <td>0.62400</td>\n",
       "      <td>0.8710</td>\n",
       "    </tr>\n",
       "    <tr>\n",
       "      <th>RM</th>\n",
       "      <td>405.0</td>\n",
       "      <td>6.269768</td>\n",
       "      <td>0.690552</td>\n",
       "      <td>3.56100</td>\n",
       "      <td>5.87800</td>\n",
       "      <td>6.19300</td>\n",
       "      <td>6.61900</td>\n",
       "      <td>8.7800</td>\n",
       "    </tr>\n",
       "    <tr>\n",
       "      <th>AGE</th>\n",
       "      <td>405.0</td>\n",
       "      <td>68.241975</td>\n",
       "      <td>27.908527</td>\n",
       "      <td>2.90000</td>\n",
       "      <td>45.00000</td>\n",
       "      <td>76.50000</td>\n",
       "      <td>94.10000</td>\n",
       "      <td>100.0000</td>\n",
       "    </tr>\n",
       "    <tr>\n",
       "      <th>DIS</th>\n",
       "      <td>405.0</td>\n",
       "      <td>3.834098</td>\n",
       "      <td>2.162173</td>\n",
       "      <td>1.12960</td>\n",
       "      <td>2.07880</td>\n",
       "      <td>3.27210</td>\n",
       "      <td>5.21460</td>\n",
       "      <td>12.1265</td>\n",
       "    </tr>\n",
       "    <tr>\n",
       "      <th>RAD</th>\n",
       "      <td>405.0</td>\n",
       "      <td>9.474074</td>\n",
       "      <td>8.618564</td>\n",
       "      <td>1.00000</td>\n",
       "      <td>4.00000</td>\n",
       "      <td>5.00000</td>\n",
       "      <td>24.00000</td>\n",
       "      <td>24.0000</td>\n",
       "    </tr>\n",
       "    <tr>\n",
       "      <th>TAX</th>\n",
       "      <td>405.0</td>\n",
       "      <td>405.839506</td>\n",
       "      <td>164.057951</td>\n",
       "      <td>187.00000</td>\n",
       "      <td>284.00000</td>\n",
       "      <td>334.00000</td>\n",
       "      <td>666.00000</td>\n",
       "      <td>711.0000</td>\n",
       "    </tr>\n",
       "    <tr>\n",
       "      <th>PTRATIO</th>\n",
       "      <td>405.0</td>\n",
       "      <td>18.437037</td>\n",
       "      <td>2.141275</td>\n",
       "      <td>12.60000</td>\n",
       "      <td>17.30000</td>\n",
       "      <td>18.80000</td>\n",
       "      <td>20.20000</td>\n",
       "      <td>22.0000</td>\n",
       "    </tr>\n",
       "    <tr>\n",
       "      <th>B</th>\n",
       "      <td>405.0</td>\n",
       "      <td>356.276444</td>\n",
       "      <td>91.298597</td>\n",
       "      <td>2.60000</td>\n",
       "      <td>375.21000</td>\n",
       "      <td>391.23000</td>\n",
       "      <td>396.24000</td>\n",
       "      <td>396.9000</td>\n",
       "    </tr>\n",
       "    <tr>\n",
       "      <th>LSTAT</th>\n",
       "      <td>405.0</td>\n",
       "      <td>12.638914</td>\n",
       "      <td>7.090281</td>\n",
       "      <td>1.73000</td>\n",
       "      <td>7.19000</td>\n",
       "      <td>11.32000</td>\n",
       "      <td>16.65000</td>\n",
       "      <td>37.9700</td>\n",
       "    </tr>\n",
       "  </tbody>\n",
       "</table>\n",
       "</div>"
      ],
      "text/plain": [
       "         count        mean         std        min        25%        50%  \\\n",
       "CRIM     405.0    3.670339    8.977954    0.00632    0.08265    0.26838   \n",
       "ZN       405.0   11.067901   22.688396    0.00000    0.00000    0.00000   \n",
       "INDUS    405.0   11.097951    6.699157    0.74000    5.32000    9.69000   \n",
       "CHAS     405.0    0.069136    0.253999    0.00000    0.00000    0.00000   \n",
       "NOX      405.0    0.553098    0.115564    0.38500    0.44900    0.53800   \n",
       "RM       405.0    6.269768    0.690552    3.56100    5.87800    6.19300   \n",
       "AGE      405.0   68.241975   27.908527    2.90000   45.00000   76.50000   \n",
       "DIS      405.0    3.834098    2.162173    1.12960    2.07880    3.27210   \n",
       "RAD      405.0    9.474074    8.618564    1.00000    4.00000    5.00000   \n",
       "TAX      405.0  405.839506  164.057951  187.00000  284.00000  334.00000   \n",
       "PTRATIO  405.0   18.437037    2.141275   12.60000   17.30000   18.80000   \n",
       "B        405.0  356.276444   91.298597    2.60000  375.21000  391.23000   \n",
       "LSTAT    405.0   12.638914    7.090281    1.73000    7.19000   11.32000   \n",
       "\n",
       "               75%       max  \n",
       "CRIM       3.47428   88.9762  \n",
       "ZN        12.50000   95.0000  \n",
       "INDUS     18.10000   27.7400  \n",
       "CHAS       0.00000    1.0000  \n",
       "NOX        0.62400    0.8710  \n",
       "RM         6.61900    8.7800  \n",
       "AGE       94.10000  100.0000  \n",
       "DIS        5.21460   12.1265  \n",
       "RAD       24.00000   24.0000  \n",
       "TAX      666.00000  711.0000  \n",
       "PTRATIO   20.20000   22.0000  \n",
       "B        396.24000  396.9000  \n",
       "LSTAT     16.65000   37.9700  "
      ]
     },
     "execution_count": 136,
     "metadata": {},
     "output_type": "execute_result"
    }
   ],
   "source": [
    "train_descrip = train_boston.describe()\n",
    "train_descrip.pop(\"target\")\n",
    "train_descrip = train_descrip.transpose()\n",
    "train_descrip"
   ]
  },
  {
   "cell_type": "code",
   "execution_count": 137,
   "metadata": {},
   "outputs": [],
   "source": [
    "train_labels = train_boston.pop('target')\n",
    "test_labels = test_boston.pop('target')"
   ]
  },
  {
   "cell_type": "markdown",
   "metadata": {},
   "source": [
    "### Estandarización de los Datos"
   ]
  },
  {
   "cell_type": "code",
   "execution_count": 138,
   "metadata": {},
   "outputs": [],
   "source": [
    "def norm(x):\n",
    "  return (x - train_descrip['mean']) / train_descrip['std']\n",
    "normed_train_data = norm(train_boston)\n",
    "normed_test_data = norm(test_boston)"
   ]
  },
  {
   "cell_type": "markdown",
   "metadata": {},
   "source": [
    "### Cosctrucción del Modelo"
   ]
  },
  {
   "cell_type": "code",
   "execution_count": 139,
   "metadata": {},
   "outputs": [],
   "source": [
    "class Regression(Model):\n",
    "    def __init__(self):\n",
    "        super(Regression,self).__init__()\n",
    "        self.dense1 = Dense(32, activation='relu')\n",
    "        self.dropout1 = Dropout(0.4)\n",
    "        self.dense2 = Dense(32, activation='relu')\n",
    "        self.dropout2 = Dropout(0.4)\n",
    "        self.dense_out = Dense(1)\n",
    "\n",
    "    def call(self,x):\n",
    "        x = self.dense1(x)\n",
    "        x = self.dropout1(x)\n",
    "        x = self.dense2(x)\n",
    "        x = self.dropout2(x)\n",
    "        return(self.dense_out(x))\n",
    "\n",
    "model = Regression()"
   ]
  },
  {
   "cell_type": "markdown",
   "metadata": {},
   "source": [
    "### Compilación del Modelo"
   ]
  },
  {
   "cell_type": "code",
   "execution_count": 140,
   "metadata": {},
   "outputs": [],
   "source": [
    "optimizer = tf.keras.optimizers.Adam()\n",
    "model.compile(loss='mse',\n",
    "                optimizer=optimizer,\n",
    "                metrics=['mae', 'mse'])"
   ]
  },
  {
   "cell_type": "markdown",
   "metadata": {},
   "source": [
    "### Entenamiento del Modelo"
   ]
  },
  {
   "cell_type": "code",
   "execution_count": 141,
   "metadata": {},
   "outputs": [
    {
     "name": "stdout",
     "output_type": "stream",
     "text": [
      "WARNING:tensorflow:Layer regression_3 is casting an input tensor from dtype float64 to the layer's dtype of float32, which is new behavior in TensorFlow 2.  The layer has dtype float32 because it's dtype defaults to floatx.\n",
      "\n",
      "If you intended to run this layer in float32, you can safely ignore this warning. If in doubt, this warning is likely only an issue if you are porting a TensorFlow 1.X model to TensorFlow 2.\n",
      "\n",
      "To change all layers to have dtype float64 by default, call `tf.keras.backend.set_floatx('float64')`. To change just this layer, pass dtype='float64' to the layer constructor. If you are the author of this layer, you can disable autocasting by passing autocast=False to the base Layer constructor.\n",
      "\n",
      "\n",
      "....................................................................................................\n",
      "....................................................................................................\n",
      "....................................................................................................\n",
      "....................................................................................................\n",
      "...................................................................................................."
     ]
    }
   ],
   "source": [
    "class PrintDot(tf.keras.callbacks.Callback):\n",
    "  def on_epoch_end(self, epoch, logs):\n",
    "    if epoch % 100 == 0: print('')\n",
    "    print('.', end='')\n",
    "\n",
    "epochs = 500\n",
    "\n",
    "history = model.fit(\n",
    "  normed_train_data, train_labels,\n",
    "  epochs=epochs, validation_split = 0.3, verbose=0,\n",
    "  callbacks=[PrintDot()])"
   ]
  },
  {
   "cell_type": "code",
   "execution_count": 142,
   "metadata": {},
   "outputs": [
    {
     "name": "stdout",
     "output_type": "stream",
     "text": [
      "Model: \"regression_3\"\n",
      "_________________________________________________________________\n",
      "Layer (type)                 Output Shape              Param #   \n",
      "=================================================================\n",
      "dense_18 (Dense)             multiple                  448       \n",
      "_________________________________________________________________\n",
      "dropout_12 (Dropout)         multiple                  0         \n",
      "_________________________________________________________________\n",
      "dense_19 (Dense)             multiple                  1056      \n",
      "_________________________________________________________________\n",
      "dropout_13 (Dropout)         multiple                  0         \n",
      "_________________________________________________________________\n",
      "dense_20 (Dense)             multiple                  33        \n",
      "=================================================================\n",
      "Total params: 1,537\n",
      "Trainable params: 1,537\n",
      "Non-trainable params: 0\n",
      "_________________________________________________________________\n"
     ]
    },
    {
     "data": {
      "image/png": "[encoded data removed]",
      "text/plain": [
       "<IPython.core.display.Image object>"
      ]
     },
     "execution_count": 142,
     "metadata": {},
     "output_type": "execute_result"
    }
   ],
   "source": [
    "model.summary()\n",
    "plot_model(model, to_file='../boston_model_1.png', \n",
    "           show_shapes=True)"
   ]
  },
  {
   "cell_type": "code",
   "execution_count": 143,
   "metadata": {},
   "outputs": [
    {
     "data": {
      "text/html": [
       "<div>\n",
       "<style scoped>\n",
       "    .dataframe tbody tr th:only-of-type {\n",
       "        vertical-align: middle;\n",
       "    }\n",
       "\n",
       "    .dataframe tbody tr th {\n",
       "        vertical-align: top;\n",
       "    }\n",
       "\n",
       "    .dataframe thead th {\n",
       "        text-align: right;\n",
       "    }\n",
       "</style>\n",
       "<table border=\"1\" class=\"dataframe\">\n",
       "  <thead>\n",
       "    <tr style=\"text-align: right;\">\n",
       "      <th></th>\n",
       "      <th>loss</th>\n",
       "      <th>mae</th>\n",
       "      <th>mse</th>\n",
       "      <th>val_loss</th>\n",
       "      <th>val_mae</th>\n",
       "      <th>val_mse</th>\n",
       "      <th>epoch</th>\n",
       "    </tr>\n",
       "  </thead>\n",
       "  <tbody>\n",
       "    <tr>\n",
       "      <th>495</th>\n",
       "      <td>37.010403</td>\n",
       "      <td>4.444326</td>\n",
       "      <td>37.010403</td>\n",
       "      <td>13.222643</td>\n",
       "      <td>2.475916</td>\n",
       "      <td>13.222643</td>\n",
       "      <td>495</td>\n",
       "    </tr>\n",
       "    <tr>\n",
       "      <th>496</th>\n",
       "      <td>26.337999</td>\n",
       "      <td>3.761862</td>\n",
       "      <td>26.337999</td>\n",
       "      <td>14.119452</td>\n",
       "      <td>2.599799</td>\n",
       "      <td>14.119452</td>\n",
       "      <td>496</td>\n",
       "    </tr>\n",
       "    <tr>\n",
       "      <th>497</th>\n",
       "      <td>29.488581</td>\n",
       "      <td>3.935000</td>\n",
       "      <td>29.488581</td>\n",
       "      <td>14.324177</td>\n",
       "      <td>2.632465</td>\n",
       "      <td>14.324177</td>\n",
       "      <td>497</td>\n",
       "    </tr>\n",
       "    <tr>\n",
       "      <th>498</th>\n",
       "      <td>30.370991</td>\n",
       "      <td>4.038032</td>\n",
       "      <td>30.370991</td>\n",
       "      <td>13.586446</td>\n",
       "      <td>2.542991</td>\n",
       "      <td>13.586446</td>\n",
       "      <td>498</td>\n",
       "    </tr>\n",
       "    <tr>\n",
       "      <th>499</th>\n",
       "      <td>34.204952</td>\n",
       "      <td>4.222106</td>\n",
       "      <td>34.204952</td>\n",
       "      <td>13.879354</td>\n",
       "      <td>2.586352</td>\n",
       "      <td>13.879354</td>\n",
       "      <td>499</td>\n",
       "    </tr>\n",
       "  </tbody>\n",
       "</table>\n",
       "</div>"
      ],
      "text/plain": [
       "          loss       mae        mse   val_loss   val_mae    val_mse  epoch\n",
       "495  37.010403  4.444326  37.010403  13.222643  2.475916  13.222643    495\n",
       "496  26.337999  3.761862  26.337999  14.119452  2.599799  14.119452    496\n",
       "497  29.488581  3.935000  29.488581  14.324177  2.632465  14.324177    497\n",
       "498  30.370991  4.038032  30.370991  13.586446  2.542991  13.586446    498\n",
       "499  34.204952  4.222106  34.204952  13.879354  2.586352  13.879354    499"
      ]
     },
     "execution_count": 143,
     "metadata": {},
     "output_type": "execute_result"
    }
   ],
   "source": [
    "hist = pd.DataFrame(history.history)\n",
    "hist['epoch'] = history.epoch\n",
    "hist.tail()"
   ]
  },
  {
   "cell_type": "code",
   "execution_count": 144,
   "metadata": {},
   "outputs": [
    {
     "data": {
      "image/png": "[encoded data removed]",
      "text/plain": [
       "<Figure size 432x288 with 1 Axes>"
      ]
     },
     "metadata": {
      "needs_background": "light"
     },
     "output_type": "display_data"
    },
    {
     "data": {
      "image/png": "[encoded data removed]",
      "text/plain": [
       "<Figure size 432x288 with 1 Axes>"
      ]
     },
     "metadata": {
      "needs_background": "light"
     },
     "output_type": "display_data"
    }
   ],
   "source": [
    "def plot_history(history):\n",
    "  hist = pd.DataFrame(history.history)\n",
    "  hist['epoch'] = history.epoch\n",
    "\n",
    "  plt.figure()\n",
    "  plt.xlabel('Epoch')\n",
    "  plt.ylabel('Mean Abs Error [Price]')\n",
    "  plt.plot(hist['epoch'], hist['mae'],\n",
    "           label='Train Error')\n",
    "  plt.plot(hist['epoch'], hist['val_mae'],\n",
    "           label = 'Val Error')\n",
    "  plt.ylim([0,10])\n",
    "  plt.legend()\n",
    "\n",
    "  plt.figure()\n",
    "  plt.xlabel('Epoch')\n",
    "  plt.ylabel('Mean Square Error [$Price^2$]')\n",
    "  plt.plot(hist['epoch'], hist['mse'],\n",
    "           label='Train Error')\n",
    "  plt.plot(hist['epoch'], hist['val_mse'],\n",
    "           label = 'Val Error')\n",
    "  plt.ylim([0,50])\n",
    "  plt.legend()\n",
    "  plt.show()\n",
    "\n",
    "\n",
    "plot_history(history)"
   ]
  },
  {
   "cell_type": "code",
   "execution_count": 145,
   "metadata": {},
   "outputs": [
    {
     "name": "stdout",
     "output_type": "stream",
     "text": [
      "4/4 - 0s - loss: 8.4613 - mae: 2.1249 - mse: 8.4613\n",
      "Testing set Mean Abs Error:  2.12 Price\n"
     ]
    }
   ],
   "source": [
    "loss, mae, mse = model.evaluate(normed_test_data, test_labels, verbose=2)\n",
    "\n",
    "print(\"Testing set Mean Abs Error: {:5.2f} Price\".format(mae))"
   ]
  },
  {
   "cell_type": "code",
   "execution_count": 146,
   "metadata": {},
   "outputs": [
    {
     "data": {
      "image/png": "[encoded data removed]",
      "text/plain": [
       "<Figure size 432x288 with 1 Axes>"
      ]
     },
     "metadata": {
      "needs_background": "light"
     },
     "output_type": "display_data"
    }
   ],
   "source": [
    "test_predictions = model.predict(normed_test_data).flatten()\n",
    "\n",
    "plt.scatter(test_labels, test_predictions)\n",
    "plt.xlabel('True Values [Price]')\n",
    "plt.ylabel('Predictions [Price]')\n",
    "plt.axis('equal')\n",
    "plt.axis('square')\n",
    "plt.xlim([0,plt.xlim()[1]])\n",
    "plt.ylim([0,plt.ylim()[1]])\n",
    "_ = plt.plot([-100, 100], [-100, 100])"
   ]
  },
  {
   "cell_type": "code",
   "execution_count": 147,
   "metadata": {},
   "outputs": [
    {
     "data": {
      "image/png": "[encoded data removed]",
      "text/plain": [
       "<Figure size 432x288 with 1 Axes>"
      ]
     },
     "metadata": {
      "needs_background": "light"
     },
     "output_type": "display_data"
    }
   ],
   "source": [
    "error = test_predictions - test_labels\n",
    "plt.hist(error, bins = 25)\n",
    "plt.xlabel(\"Prediction Error [Price]\")\n",
    "_ = plt.ylabel(\"Count\")"
   ]
  }
 ],
 "metadata": {
  "kernelspec": {
   "display_name": "Python 3",
   "language": "python",
   "name": "python3"
  },
  "language_info": {
   "codemirror_mode": {
    "name": "ipython",
    "version": 3
   },
   "file_extension": ".py",
   "mimetype": "text/x-python",
   "name": "python",
   "nbconvert_exporter": "python",
   "pygments_lexer": "ipython3",
   "version": "3.8.5"
  }
 },
 "nbformat": 4,
 "nbformat_minor": 4
}
