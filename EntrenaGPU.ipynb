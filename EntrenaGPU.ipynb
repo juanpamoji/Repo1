{
  "nbformat": 4,
  "nbformat_minor": 0,
  "metadata": {
    "colab": {
      "name": "EntrenaGPU.ipynb",
      "provenance": [],
      "authorship_tag": "ABX9TyNmwrRqzkNwUvpxJNip5s8M",
      "include_colab_link": true
    },
    "kernelspec": {
      "name": "python3",
      "display_name": "Python 3"
    },
    "accelerator": "GPU"
  },
  "cells": [
    {
      "cell_type": "markdown",
      "metadata": {
        "id": "view-in-github",
        "colab_type": "text"
      },
      "source": [
        "<a href=\"https://colab.research.google.com/github/juanpamoji/Repo1/blob/main/EntrenaGPU.ipynb\" target=\"_parent\"><img src=\"https://colab.research.google.com/assets/colab-badge.svg\" alt=\"Open In Colab\"/></a>"
      ]
    },
    {
      "cell_type": "markdown",
      "metadata": {
        "id": "b1MUjTaFIT1O"
      },
      "source": [
        "# **Entendiento Google Colab**\r\n",
        "# **Juan pablo Mojica Macías**\r\n",
        "# Diplomado en IA y AP\r\n"
      ]
    },
    {
      "cell_type": "markdown",
      "metadata": {
        "id": "g2Xn_hDu3iGa"
      },
      "source": [
        "# **Ejemplo para GPU**"
      ]
    },
    {
      "cell_type": "code",
      "metadata": {
        "id": "-2Uk07Ph8DNW"
      },
      "source": [
        "import numpy as np\r\n",
        "import os \r\n",
        "import gzip \r\n",
        "\r\n",
        "def datos (ruta, tipo=\"train\"):\r\n",
        "  ruta_categorias=os.path.join(ruta, '%s-labels-idx1-ubyte.gz' % tipo)\r\n",
        "  ruta_imagenes=os.path.join(ruta, '%s-images-idx3-ubyte.gz'% tipo)\r\n",
        "\r\n",
        "  with gzip.open(ruta_categorias,'rb') as rut_cat:\r\n",
        "    etiquetas=np.frombuffer(rut_cat.read(), dtype=np.uint8, offset=8)\r\n",
        "\r\n",
        "  with gzip.open(ruta_imagenes,'rb') as rut_imgs:\r\n",
        "    imagenes=np.frombuffer(rut_imgs.read(),dtype=np.uint8, offset=16).reshape(len(etiquetas),784)\r\n",
        "\r\n",
        "  return imagenes, etiquetas"
      ],
      "execution_count": null,
      "outputs": []
    },
    {
      "cell_type": "markdown",
      "metadata": {
        "id": "PWkOHSb18EB6"
      },
      "source": [
        "# **Lectura de datos en Drive**\r\n"
      ]
    },
    {
      "cell_type": "code",
      "metadata": {
        "colab": {
          "base_uri": "https://localhost:8080/"
        },
        "id": "SsquW3fR8N18",
        "outputId": "3a2002f0-055d-42f1-cdb0-513707868d4e"
      },
      "source": [
        "from google.colab import drive\r\n",
        "drive.mount('/content/gdrive')\r\n",
        "\r\n",
        "ruta='gdrive/My Drive/Trabajos Diplomado IA/fashion_mnist_data'\r\n",
        "\r\n",
        "X_train, Y_train=datos(ruta,tipo='train')\r\n",
        "X_test, Y_test=datos(ruta,tipo='test')"
      ],
      "execution_count": null,
      "outputs": [
        {
          "output_type": "stream",
          "text": [
            "Drive already mounted at /content/gdrive; to attempt to forcibly remount, call drive.mount(\"/content/gdrive\", force_remount=True).\n"
          ],
          "name": "stdout"
        }
      ]
    },
    {
      "cell_type": "markdown",
      "metadata": {
        "id": "J5C6Mi3j-do7"
      },
      "source": [
        "# **Reajuste del tamaño de datos (Multiplo de 128)**"
      ]
    },
    {
      "cell_type": "code",
      "metadata": {
        "id": "ShNi8i1m-jvy"
      },
      "source": [
        "n_train=len(X_train)\r\n",
        "n_test=len(X_train)\r\n",
        "mod_train=60000-(60000%128)\r\n",
        "mod_test=10000-(10000%128)\r\n",
        "\r\n",
        "X_train=X_train[0:mod_train,:]\r\n",
        "X_test=X_test[0:mod_test,:]\r\n",
        "Y_train=Y_train[0:mod_train]\r\n",
        "Y_test=Y_test[0:mod_test]\r\n",
        "\r\n",
        "X_train=np.reshape(X_train,(mod_train,28,28,1))\r\n",
        "X_test=np.reshape(X_test,(mod_test,28,28,1))"
      ],
      "execution_count": null,
      "outputs": []
    },
    {
      "cell_type": "markdown",
      "metadata": {
        "id": "o0hg4FUtCEaI"
      },
      "source": [
        "# Importación de ***Tensorflow 2*** plus ***Keras***"
      ]
    },
    {
      "cell_type": "code",
      "metadata": {
        "colab": {
          "base_uri": "https://localhost:8080/"
        },
        "id": "OxNiqO96Ckhe",
        "outputId": "75f373a2-e38e-494b-ec87-dcf8f2d84834"
      },
      "source": [
        "%tensorflow_version 2.x\r\n",
        "import tensorflow as tf\r\n",
        "\r\n",
        "print('Versión de Tensorflow: ' + tf.__version__)"
      ],
      "execution_count": null,
      "outputs": [
        {
          "output_type": "stream",
          "text": [
            "Versión de Tensorflow: 2.4.1\n"
          ],
          "name": "stdout"
        }
      ]
    },
    {
      "cell_type": "markdown",
      "metadata": {
        "id": "67ccIRO3DLtZ"
      },
      "source": [
        "# **Creación del Modelo con Keras**"
      ]
    },
    {
      "cell_type": "code",
      "metadata": {
        "colab": {
          "base_uri": "https://localhost:8080/"
        },
        "id": "zl0UceboDQrQ",
        "outputId": "3a4acd0b-998b-4e2b-d348-804c81845f77"
      },
      "source": [
        "tf.random.set_seed(200)\r\n",
        "\r\n",
        "model = tf.keras.models.Sequential() #Contenedor del modelo\r\n",
        "model.add(tf.keras.layers.BatchNormalization(input_shape=X_train.shape[1:])) #Normalización primera Capa\r\n",
        "model.add(tf.keras.layers.Conv2D(64, (5, 5), padding='same', activation='elu')) #Filtro convolucional\r\n",
        "model.add(tf.keras.layers.MaxPooling2D(pool_size=(2, 2), strides=(2,2))) #Capa maxpooling\r\n",
        "model.add(tf.keras.layers.Dropout(0.25)) #reduce el overfitting del modelo\r\n",
        "\r\n",
        "model.add(tf.keras.layers.BatchNormalization(input_shape=X_train.shape[1:])) #Normalización segunda  Capa\r\n",
        "model.add(tf.keras.layers.Conv2D(128, (5, 5), padding='same', activation='elu')) #Filtro convolucional\r\n",
        "model.add(tf.keras.layers.MaxPooling2D(pool_size=(2, 2))) #Capa maxpooling\r\n",
        "model.add(tf.keras.layers.Dropout(0.25)) #reduce el overfitting del modelo\r\n",
        "\r\n",
        "model.add(tf.keras.layers.BatchNormalization(input_shape=X_train.shape[1:]))#Normalización tercera Capa\r\n",
        "model.add(tf.keras.layers.Conv2D(256, (5, 5), padding='same', activation='elu')) #Filtro convolucional\r\n",
        "model.add(tf.keras.layers.MaxPooling2D(pool_size=(2, 2), strides=(2,2)))#Capa maxpooling\r\n",
        "model.add(tf.keras.layers.Dropout(0.25)) #reduce el overfitting del modelo\r\n",
        "\r\n",
        "model.add(tf.keras.layers.Flatten()) #Aplana datos\r\n",
        "model.add(tf.keras.layers.Dense(256)) #Agragamos una red neurona con 256 neuronas\r\n",
        "model.add(tf.keras.layers.Activation('elu'))\r\n",
        "model.add(tf.keras.layers.Dropout(0.5))\r\n",
        "model.add(tf.keras.layers.Dense(10)) #conexión de salida con 10 neuronas\r\n",
        "model.add(tf.keras.layers.Activation('softmax'))\r\n",
        "\r\n",
        "#Imprime el modelo \r\n",
        "model.summary()"
      ],
      "execution_count": null,
      "outputs": [
        {
          "output_type": "stream",
          "text": [
            "Model: \"sequential_1\"\n",
            "_________________________________________________________________\n",
            "Layer (type)                 Output Shape              Param #   \n",
            "=================================================================\n",
            "batch_normalization_1 (Batch (None, 28, 28, 1)         4         \n",
            "_________________________________________________________________\n",
            "conv2d_1 (Conv2D)            (None, 28, 28, 64)        1664      \n",
            "_________________________________________________________________\n",
            "max_pooling2d (MaxPooling2D) (None, 14, 14, 64)        0         \n",
            "_________________________________________________________________\n",
            "dropout (Dropout)            (None, 14, 14, 64)        0         \n",
            "_________________________________________________________________\n",
            "batch_normalization_2 (Batch (None, 14, 14, 64)        256       \n",
            "_________________________________________________________________\n",
            "conv2d_2 (Conv2D)            (None, 14, 14, 128)       204928    \n",
            "_________________________________________________________________\n",
            "max_pooling2d_1 (MaxPooling2 (None, 7, 7, 128)         0         \n",
            "_________________________________________________________________\n",
            "dropout_1 (Dropout)          (None, 7, 7, 128)         0         \n",
            "_________________________________________________________________\n",
            "batch_normalization_3 (Batch (None, 7, 7, 128)         512       \n",
            "_________________________________________________________________\n",
            "conv2d_3 (Conv2D)            (None, 7, 7, 256)         819456    \n",
            "_________________________________________________________________\n",
            "max_pooling2d_2 (MaxPooling2 (None, 3, 3, 256)         0         \n",
            "_________________________________________________________________\n",
            "dropout_2 (Dropout)          (None, 3, 3, 256)         0         \n",
            "_________________________________________________________________\n",
            "flatten (Flatten)            (None, 2304)              0         \n",
            "_________________________________________________________________\n",
            "dense (Dense)                (None, 256)               590080    \n",
            "_________________________________________________________________\n",
            "activation (Activation)      (None, 256)               0         \n",
            "_________________________________________________________________\n",
            "dropout_3 (Dropout)          (None, 256)               0         \n",
            "_________________________________________________________________\n",
            "dense_1 (Dense)              (None, 10)                2570      \n",
            "_________________________________________________________________\n",
            "activation_1 (Activation)    (None, 10)                0         \n",
            "=================================================================\n",
            "Total params: 1,619,470\n",
            "Trainable params: 1,619,084\n",
            "Non-trainable params: 386\n",
            "_________________________________________________________________\n"
          ],
          "name": "stdout"
        }
      ]
    },
    {
      "cell_type": "code",
      "metadata": {
        "id": "5Qjpp4EtFn5V"
      },
      "source": [
        "model.compile(optimizer='adam',loss='sparse_categorical_crossentropy',metrics=['accuracy'])"
      ],
      "execution_count": null,
      "outputs": []
    },
    {
      "cell_type": "markdown",
      "metadata": {
        "id": "Ej6xMJ4IFh1t"
      },
      "source": [
        "# **Entrenamiento con GPU**"
      ]
    },
    {
      "cell_type": "markdown",
      "metadata": {
        "id": "mD14NSBUK2V_"
      },
      "source": [
        "# Verificación de la disponibilidad de GPU"
      ]
    },
    {
      "cell_type": "code",
      "metadata": {
        "colab": {
          "base_uri": "https://localhost:8080/"
        },
        "id": "jRLA1Y87K7eA",
        "outputId": "5071c817-18ab-4775-a2cf-5a6a409b6385"
      },
      "source": [
        "nombre_gpu = tf.test.gpu_device_name()\r\n",
        "if nombre_gpu != '/device:GPU:0':\r\n",
        "  raise SystemError('GPU no encontrada')\r\n",
        "print('GPU encontrada: {}'.format(nombre_gpu))"
      ],
      "execution_count": null,
      "outputs": [
        {
          "output_type": "stream",
          "text": [
            "GPU encontrada: /device:GPU:0\n"
          ],
          "name": "stdout"
        }
      ]
    },
    {
      "cell_type": "code",
      "metadata": {
        "id": "W_2J4R6nGEjY",
        "colab": {
          "base_uri": "https://localhost:8080/"
        },
        "outputId": "e323228f-f36d-4a7b-a9be-a47c57ea811f"
      },
      "source": [
        "# Entrenamiento GPU\r\n",
        "import timeit\r\n",
        "\r\n",
        "def gpu_train():\r\n",
        "  with tf.device('/GPU:0'):\r\n",
        "    model.fit(X_train,Y_train,validation_data=(X_test,Y_test),batch_size=128,epochs=2,verbose=1)\r\n",
        "  \r\n",
        "  return None\r\n",
        "\r\n",
        "gpu_time = timeit.timeit('gpu_train()', number=1, setup='from __main__ import gpu_train')"
      ],
      "execution_count": null,
      "outputs": [
        {
          "output_type": "stream",
          "text": [
            "Epoch 1/2\n",
            "468/468 [==============================] - 11s 17ms/step - loss: 1.0176 - accuracy: 0.7070 - val_loss: 0.3877 - val_accuracy: 0.8660\n",
            "Epoch 2/2\n",
            "468/468 [==============================] - 8s 17ms/step - loss: 0.4055 - accuracy: 0.8566 - val_loss: 0.3381 - val_accuracy: 0.8859\n"
          ],
          "name": "stdout"
        }
      ]
    },
    {
      "cell_type": "code",
      "metadata": {
        "colab": {
          "base_uri": "https://localhost:8080/"
        },
        "id": "mOPTIMEfNMS9",
        "outputId": "8d4003a2-6112-4feb-cea6-e29f1bad3b41"
      },
      "source": [
        "print('Tiempo de entrenamiento: ' + str(gpu_time) + ' segundos')"
      ],
      "execution_count": null,
      "outputs": [
        {
          "output_type": "stream",
          "text": [
            "Tiempo de entrenamiento: 18.920414106999942 segundos\n"
          ],
          "name": "stdout"
        }
      ]
    },
    {
      "cell_type": "markdown",
      "metadata": {
        "id": "Dt1BHSN2OXDU"
      },
      "source": [
        "# **Nota:**\r\n",
        "\r\n",
        "El entrenamiento con **GPU** se demoró aproximadamente 18.92 segundos "
      ]
    }
  ]
}