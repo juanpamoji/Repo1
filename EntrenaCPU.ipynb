{
  "nbformat": 4,
  "nbformat_minor": 0,
  "metadata": {
    "colab": {
      "name": "EntrenaCPU.ipynb",
      "provenance": [],
      "authorship_tag": "ABX9TyM2svGdMzmvW7lyrudKszFZ",
      "include_colab_link": true
    },
    "kernelspec": {
      "name": "python3",
      "display_name": "Python 3"
    }
  },
  "cells": [
    {
      "cell_type": "markdown",
      "metadata": {
        "id": "view-in-github",
        "colab_type": "text"
      },
      "source": [
        "<a href=\"https://colab.research.google.com/github/juanpamoji/Repo1/blob/main/EntrenaCPU.ipynb\" target=\"_parent\"><img src=\"https://colab.research.google.com/assets/colab-badge.svg\" alt=\"Open In Colab\"/></a>"
      ]
    },
    {
      "cell_type": "markdown",
      "metadata": {
        "id": "b1MUjTaFIT1O"
      },
      "source": [
        "# **Entendiento Google Colab**\r\n",
        "# **Juan pablo Mojica Macías**\r\n",
        "# Diplomado en IA y AP\r\n"
      ]
    },
    {
      "cell_type": "markdown",
      "metadata": {
        "id": "g2Xn_hDu3iGa"
      },
      "source": [
        "# **Ejemplo para CPU**"
      ]
    },
    {
      "cell_type": "code",
      "metadata": {
        "id": "-2Uk07Ph8DNW"
      },
      "source": [
        "import numpy as np\r\n",
        "import os \r\n",
        "import gzip \r\n",
        "\r\n",
        "def datos (ruta, tipo=\"train\"):\r\n",
        "  ruta_categorias=os.path.join(ruta, '%s-labels-idx1-ubyte.gz' % tipo)\r\n",
        "  ruta_imagenes=os.path.join(ruta, '%s-images-idx3-ubyte.gz'% tipo)\r\n",
        "\r\n",
        "  with gzip.open(ruta_categorias,'rb') as rut_cat:\r\n",
        "    etiquetas=np.frombuffer(rut_cat.read(), dtype=np.uint8, offset=8)\r\n",
        "\r\n",
        "  with gzip.open(ruta_imagenes,'rb') as rut_imgs:\r\n",
        "    imagenes=np.frombuffer(rut_imgs.read(),dtype=np.uint8, offset=16).reshape(len(etiquetas),784)\r\n",
        "\r\n",
        "  return imagenes, etiquetas"
      ],
      "execution_count": null,
      "outputs": []
    },
    {
      "cell_type": "markdown",
      "metadata": {
        "id": "PWkOHSb18EB6"
      },
      "source": [
        "# **Lectura de datos en Drive**\r\n"
      ]
    },
    {
      "cell_type": "code",
      "metadata": {
        "colab": {
          "base_uri": "https://localhost:8080/"
        },
        "id": "SsquW3fR8N18",
        "outputId": "b2b2a748-b805-472a-f3b2-71934b45049c"
      },
      "source": [
        "from google.colab import drive\r\n",
        "drive.mount('/content/gdrive')\r\n",
        "\r\n",
        "ruta='gdrive/My Drive/Trabajos Diplomado IA/fashion_mnist_data'\r\n",
        "\r\n",
        "X_train, Y_train=datos(ruta,tipo='train')\r\n",
        "X_test, Y_test=datos(ruta,tipo='test')"
      ],
      "execution_count": null,
      "outputs": [
        {
          "output_type": "stream",
          "text": [
            "Drive already mounted at /content/gdrive; to attempt to forcibly remount, call drive.mount(\"/content/gdrive\", force_remount=True).\n"
          ],
          "name": "stdout"
        }
      ]
    },
    {
      "cell_type": "markdown",
      "metadata": {
        "id": "J5C6Mi3j-do7"
      },
      "source": [
        "# **Reajuste del tamaño de datos (Multiplo de 128)**"
      ]
    },
    {
      "cell_type": "code",
      "metadata": {
        "id": "ShNi8i1m-jvy"
      },
      "source": [
        "n_train=len(X_train)\r\n",
        "n_test=len(X_train)\r\n",
        "mod_train=60000-(60000%128)\r\n",
        "mod_test=10000-(10000%128)\r\n",
        "\r\n",
        "X_train=X_train[0:mod_train,:]\r\n",
        "X_test=X_test[0:mod_test,:]\r\n",
        "Y_train=Y_train[0:mod_train]\r\n",
        "Y_test=Y_test[0:mod_test]\r\n",
        "\r\n",
        "X_train=np.reshape(X_train,(mod_train,28,28,1))\r\n",
        "X_test=np.reshape(X_test,(mod_test,28,28,1))"
      ],
      "execution_count": null,
      "outputs": []
    },
    {
      "cell_type": "markdown",
      "metadata": {
        "id": "o0hg4FUtCEaI"
      },
      "source": [
        "# Importación de ***Tensorflow 2*** plus ***Keras***"
      ]
    },
    {
      "cell_type": "code",
      "metadata": {
        "colab": {
          "base_uri": "https://localhost:8080/"
        },
        "id": "OxNiqO96Ckhe",
        "outputId": "41967655-f050-4d83-9c25-7fec77059113"
      },
      "source": [
        "%tensorflow_version 2.x\r\n",
        "import tensorflow as tf\r\n",
        "\r\n",
        "print('Versión de Tensorflow: ' + tf.__version__)"
      ],
      "execution_count": null,
      "outputs": [
        {
          "output_type": "stream",
          "text": [
            "Versión de Tensorflow: 2.4.1\n"
          ],
          "name": "stdout"
        }
      ]
    },
    {
      "cell_type": "markdown",
      "metadata": {
        "id": "67ccIRO3DLtZ"
      },
      "source": [
        "# **Creación del Modelo con Keras**"
      ]
    },
    {
      "cell_type": "code",
      "metadata": {
        "id": "zl0UceboDQrQ"
      },
      "source": [
        "tf.random.set_seed(200)\r\n",
        "\r\n",
        "model = tf.keras.models.Sequential() #Contenedor del modelo\r\n",
        "model.add(tf.keras.layers.BatchNormalization(input_shape=X_train.shape[1:])) #Normalización primera Capa\r\n",
        "model.add(tf.keras.layers.Conv2D(64, (5, 5), padding='same', activation='elu')) #Filtro convolucional\r\n",
        "model.add(tf.keras.layers.MaxPooling2D(pool_size=(2, 2), strides=(2,2))) #Capa maxpooling\r\n",
        "model.add(tf.keras.layers.Dropout(0.25)) #reduce el overfitting del modelo\r\n",
        "\r\n",
        "model.add(tf.keras.layers.BatchNormalization(input_shape=X_train.shape[1:])) #Normalización segunda  Capa\r\n",
        "model.add(tf.keras.layers.Conv2D(128, (5, 5), padding='same', activation='elu')) #Filtro convolucional\r\n",
        "model.add(tf.keras.layers.MaxPooling2D(pool_size=(2, 2))) #Capa maxpooling\r\n",
        "model.add(tf.keras.layers.Dropout(0.25)) #reduce el overfitting del modelo\r\n",
        "\r\n",
        "model.add(tf.keras.layers.BatchNormalization(input_shape=X_train.shape[1:]))#Normalización tercera Capa\r\n",
        "model.add(tf.keras.layers.Conv2D(256, (5, 5), padding='same', activation='elu')) #Filtro convolucional\r\n",
        "model.add(tf.keras.layers.MaxPooling2D(pool_size=(2, 2), strides=(2,2)))#Capa maxpooling\r\n",
        "model.add(tf.keras.layers.Dropout(0.25)) #reduce el overfitting del modelo\r\n",
        "\r\n",
        "model.add(tf.keras.layers.Flatten()) #Aplana datos\r\n",
        "model.add(tf.keras.layers.Dense(256)) #Agragamos una red neurona con 256 neuronas\r\n",
        "model.add(tf.keras.layers.Activation('elu'))\r\n",
        "model.add(tf.keras.layers.Dropout(0.5))\r\n",
        "model.add(tf.keras.layers.Dense(10)) #conexión de salida con 10 neuronas\r\n",
        "model.add(tf.keras.layers.Activation('softmax'))\r\n",
        "\r\n",
        "#Imprime el modelo \r\n",
        "model.summary()\r\n"
      ],
      "execution_count": null,
      "outputs": []
    },
    {
      "cell_type": "markdown",
      "metadata": {
        "id": "Ej6xMJ4IFh1t"
      },
      "source": [
        "# **Entrenamiento con CPU**"
      ]
    },
    {
      "cell_type": "code",
      "metadata": {
        "id": "5Qjpp4EtFn5V"
      },
      "source": [
        "model.compile(optimizer='adam',loss='sparse_categorical_crossentropy',metrics=['accuracy'])"
      ],
      "execution_count": null,
      "outputs": []
    },
    {
      "cell_type": "code",
      "metadata": {
        "id": "W_2J4R6nGEjY"
      },
      "source": [
        "# Entrenamiento CPU\r\n",
        "import timeit\r\n",
        "\r\n",
        "def cpu_train():\r\n",
        "  with tf.device('/cpu:0'):\r\n",
        "    model.fit(X_train,Y_train,validation_data=(X_test,Y_test),batch_size=128,epochs=2,verbose=1)\r\n",
        "  \r\n",
        "  return None\r\n",
        "\r\n",
        "cpu_time = timeit.timeit('cpu_train()', number=1, setup='from __main__ import cpu_train')"
      ],
      "execution_count": null,
      "outputs": []
    },
    {
      "cell_type": "code",
      "metadata": {
        "id": "d2AFSsPaJt-R"
      },
      "source": [
        "print('Tiempo de entrenamiento: ' + str(cpu_time) + ' segundos')"
      ],
      "execution_count": null,
      "outputs": []
    },
    {
      "cell_type": "markdown",
      "metadata": {
        "id": "e9RDYmk1ODRn"
      },
      "source": [
        "# **Nota**\r\n",
        "El entrenamiento en la **CPU** se demoro aproximadamente 28 minutos"
      ]
    }
  ]
}